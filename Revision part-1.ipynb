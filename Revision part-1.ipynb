{
 "cells": [
  {
   "cell_type": "code",
   "execution_count": 1,
   "metadata": {},
   "outputs": [],
   "source": [
    "#multiple inputs :"
   ]
  },
  {
   "cell_type": "code",
   "execution_count": 3,
   "metadata": {},
   "outputs": [
    {
     "name": "stdout",
     "output_type": "stream",
     "text": [
      "Enter 3 numbers to be added seperate by space 1 2 3\n",
      "['1', '2', '3']\n"
     ]
    }
   ],
   "source": [
    "multiple = input(\"Enter 3 numbers to be added seperate by space \").split(\" \",3)\n",
    "print(multiple)\n",
    "# Split returns the string in list"
   ]
  },
  {
   "cell_type": "code",
   "execution_count": 4,
   "metadata": {},
   "outputs": [
    {
     "name": "stdout",
     "output_type": "stream",
     "text": [
      "Enter strings we r t 1 2 3 %\n"
     ]
    },
    {
     "data": {
      "text/plain": [
       "['we', 'r', 't', '1', '2', '3', '%']"
      ]
     },
     "execution_count": 4,
     "metadata": {},
     "output_type": "execute_result"
    }
   ],
   "source": [
    "input(\"Enter strings \").split()"
   ]
  },
  {
   "cell_type": "code",
   "execution_count": 5,
   "metadata": {},
   "outputs": [],
   "source": [
    "#If split has to be specified then assign number of split variables"
   ]
  },
  {
   "cell_type": "code",
   "execution_count": 9,
   "metadata": {},
   "outputs": [
    {
     "name": "stdout",
     "output_type": "stream",
     "text": [
      "Enter 2 strings 2 3\n",
      "2 3\n"
     ]
    }
   ],
   "source": [
    "x,y = input(\"Enter 2 strings \").split()\n",
    "print(x,y)"
   ]
  },
  {
   "cell_type": "code",
   "execution_count": 11,
   "metadata": {},
   "outputs": [
    {
     "name": "stdout",
     "output_type": "stream",
     "text": [
      "Enter 3 numbers 1 2 43\n",
      "[['1', '2', '43']]\n"
     ]
    }
   ],
   "source": [
    "x_y = [input(\"Enter 3 numbers \").split()]\n",
    "print(x_y)"
   ]
  },
  {
   "cell_type": "code",
   "execution_count": 12,
   "metadata": {},
   "outputs": [],
   "source": [
    "#split syntax\n",
    "#input().split(fun,iter)\n",
    "\n",
    "#List comprehension\n",
    "#newlist = [element for element in old list if condition any] \n",
    "\n",
    "#"
   ]
  },
  {
   "cell_type": "code",
   "execution_count": 16,
   "metadata": {},
   "outputs": [
    {
     "name": "stdout",
     "output_type": "stream",
     "text": [
      "Enter numbers seperated by #1#2\n",
      "['1', '2']\n"
     ]
    }
   ],
   "source": [
    "x_list = [x for x in input(\"Enter numbers seperated by #\").split(\"#\")]\n",
    "print(x_list)"
   ]
  },
  {
   "cell_type": "code",
   "execution_count": 18,
   "metadata": {},
   "outputs": [
    {
     "name": "stdout",
     "output_type": "stream",
     "text": [
      "Enter the students name seperated by space Anjana  devi gireesh\n",
      "['Anjana', '', 'devi', 'gireesh']\n"
     ]
    }
   ],
   "source": [
    "students_list = list(map(str,input(\"Enter the students name seperated by space \").split(\" \")))\n",
    "print(students_list)"
   ]
  },
  {
   "cell_type": "code",
   "execution_count": 20,
   "metadata": {},
   "outputs": [
    {
     "name": "stdout",
     "output_type": "stream",
     "text": [
      "Enter students age seperated by $1$23$3$56\n",
      "[1, 23, 3, 56]\n"
     ]
    }
   ],
   "source": [
    "age_list = [int(x) for x in input(\"Enter students age seperated by $\").split(\"$\")]\n",
    "print(age_list)"
   ]
  },
  {
   "cell_type": "code",
   "execution_count": 21,
   "metadata": {},
   "outputs": [
    {
     "data": {
      "text/plain": [
       "'ss'"
      ]
     },
     "execution_count": 21,
     "metadata": {},
     "output_type": "execute_result"
    }
   ],
   "source": [
    "'s'*2"
   ]
  },
  {
   "cell_type": "code",
   "execution_count": null,
   "metadata": {},
   "outputs": [],
   "source": []
  }
 ],
 "metadata": {
  "kernelspec": {
   "display_name": "Python 3",
   "language": "python",
   "name": "python3"
  },
  "language_info": {
   "codemirror_mode": {
    "name": "ipython",
    "version": 3
   },
   "file_extension": ".py",
   "mimetype": "text/x-python",
   "name": "python",
   "nbconvert_exporter": "python",
   "pygments_lexer": "ipython3",
   "version": "3.8.3"
  }
 },
 "nbformat": 4,
 "nbformat_minor": 4
}
