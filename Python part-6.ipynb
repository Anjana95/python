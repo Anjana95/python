{
 "cells": [
  {
   "cell_type": "markdown",
   "metadata": {},
   "source": [
    "## Operator Overloading in Python"
   ]
  },
  {
   "cell_type": "markdown",
   "metadata": {},
   "source": [
    "1. Giving extended meaning beyond their predefined operational meaning\n",
    "2. Eg: operator + is used to add two integers as well as join two strings and merge two lists\n",
    "3. It is achievable because ‘+’ operator is overloaded by int class and str class\n",
    "4. same built-in operator or function shows different behavior \n",
    "   for objects of different classes, this is called Operator Overloading. \n",
    "\n",
    "link : geeksforgeeks.org/operator-overloading-in-python/"
   ]
  },
  {
   "cell_type": "code",
   "execution_count": 1,
   "metadata": {},
   "outputs": [
    {
     "name": "stdout",
     "output_type": "stream",
     "text": [
      "3\n"
     ]
    }
   ],
   "source": [
    "print(1+2)"
   ]
  },
  {
   "cell_type": "markdown",
   "metadata": {},
   "source": [
    "### When \"+\" operator is called, its calling the __add__ method of int class \n",
    "\n",
    "1+2 = int . __ add __ (1,2)"
   ]
  },
  {
   "cell_type": "code",
   "execution_count": 2,
   "metadata": {},
   "outputs": [
    {
     "data": {
      "text/plain": [
       "3"
      ]
     },
     "execution_count": 2,
     "metadata": {},
     "output_type": "execute_result"
    }
   ],
   "source": [
    "int.__add__(1,2)"
   ]
  },
  {
   "cell_type": "markdown",
   "metadata": {},
   "source": [
    "link : https://www.youtube.com/watch?v=9wd50TKv_OQ"
   ]
  },
  {
   "cell_type": "code",
   "execution_count": 3,
   "metadata": {},
   "outputs": [
    {
     "name": "stdout",
     "output_type": "stream",
     "text": [
      "Anjana devi\n"
     ]
    }
   ],
   "source": [
    "print(\"Anjana\"+\" \"+\"devi\")"
   ]
  },
  {
   "cell_type": "code",
   "execution_count": 4,
   "metadata": {},
   "outputs": [
    {
     "name": "stdout",
     "output_type": "stream",
     "text": [
      "[1, 2, 2, 3]\n"
     ]
    }
   ],
   "source": [
    "print([1,2]+[2,3])"
   ]
  },
  {
   "cell_type": "markdown",
   "metadata": {},
   "source": [
    "### How to overload the operators in Python? \n",
    "\n",
    "Consider that we have two objects which are a physical representation of a class (user-defined data type) and we have to add two objects with binary ‘+’ operator it throws an error, because compiler don’t know how to add two objects."
   ]
  },
  {
   "cell_type": "code",
   "execution_count": 5,
   "metadata": {},
   "outputs": [
    {
     "name": "stdout",
     "output_type": "stream",
     "text": [
      "25\n",
      "None\n"
     ]
    }
   ],
   "source": [
    "class Student:\n",
    "    \n",
    "    def __init__(self,m1,m2):\n",
    "        self.m1 = m1\n",
    "        self.m2 = m2\n",
    "    \n",
    "    def addition(m1,m2):\n",
    "        print(m1+m2)\n",
    "\n",
    "s1 = Student.addition(12,13)\n",
    "print(s1)"
   ]
  },
  {
   "cell_type": "code",
   "execution_count": 6,
   "metadata": {},
   "outputs": [
    {
     "ename": "TypeError",
     "evalue": "unsupported operand type(s) for +: 'Student' and 'Student'",
     "output_type": "error",
     "traceback": [
      "\u001b[1;31m---------------------------------------------------------------------------\u001b[0m",
      "\u001b[1;31mTypeError\u001b[0m                                 Traceback (most recent call last)",
      "\u001b[1;32m<ipython-input-6-65d92e1dcd2b>\u001b[0m in \u001b[0;36m<module>\u001b[1;34m\u001b[0m\n\u001b[0;32m      8\u001b[0m \u001b[0ms2\u001b[0m \u001b[1;33m=\u001b[0m \u001b[0mStudent\u001b[0m\u001b[1;33m(\u001b[0m\u001b[1;36m78\u001b[0m\u001b[1;33m,\u001b[0m\u001b[1;36m68\u001b[0m\u001b[1;33m)\u001b[0m\u001b[1;33m\u001b[0m\u001b[1;33m\u001b[0m\u001b[0m\n\u001b[0;32m      9\u001b[0m \u001b[1;33m\u001b[0m\u001b[0m\n\u001b[1;32m---> 10\u001b[1;33m \u001b[0ms3\u001b[0m \u001b[1;33m=\u001b[0m \u001b[0ms1\u001b[0m \u001b[1;33m+\u001b[0m \u001b[0ms2\u001b[0m\u001b[1;33m\u001b[0m\u001b[1;33m\u001b[0m\u001b[0m\n\u001b[0m\u001b[0;32m     11\u001b[0m \u001b[1;33m\u001b[0m\u001b[0m\n\u001b[0;32m     12\u001b[0m \u001b[1;31m## Ideally when we say s1+s2 -> it has to call Student.__add__(23,45), Student__add__(1,2)\u001b[0m\u001b[1;33m\u001b[0m\u001b[1;33m\u001b[0m\u001b[1;33m\u001b[0m\u001b[0m\n",
      "\u001b[1;31mTypeError\u001b[0m: unsupported operand type(s) for +: 'Student' and 'Student'"
     ]
    }
   ],
   "source": [
    "class Student:\n",
    "    \n",
    "    def __init__(self,m1,m2):\n",
    "        self.m1 = m1\n",
    "        self.m2 = m2\n",
    "        \n",
    "s1 = Student(23,45)\n",
    "s2 = Student(78,68)\n",
    "\n",
    "s3 = s1 + s2\n",
    "\n",
    "## Ideally when we say s1+s2 -> it has to call Student.__add__(23,45), Student__add__(1,2)"
   ]
  },
  {
   "cell_type": "markdown",
   "metadata": {},
   "source": [
    "Int , str has __ add __ method which adds two objects passed. But here class Student doesn't \n",
    "have __add__ method so we need overload class with __ add __ method"
   ]
  },
  {
   "cell_type": "code",
   "execution_count": 7,
   "metadata": {},
   "outputs": [
    {
     "name": "stdout",
     "output_type": "stream",
     "text": [
      "(101, 113)\n"
     ]
    }
   ],
   "source": [
    "class Student:\n",
    "    \n",
    "    def __init__(self,m1,m2):\n",
    "        self.m1 = m1\n",
    "        self.m2 = m2\n",
    "    \n",
    "    def __add__(self,other):\n",
    "        total = self.m1 + other.m1, self.m2+other.m2\n",
    "        return total\n",
    "        \n",
    "s1 = Student(23,45)\n",
    "s2 = Student(78,68)\n",
    "s3 = s1 + s2\n",
    "print(s3)"
   ]
  },
  {
   "cell_type": "code",
   "execution_count": 8,
   "metadata": {},
   "outputs": [
    {
     "name": "stdout",
     "output_type": "stream",
     "text": [
      "<__main__.Student object at 0x000001FE564B6AC0>\n"
     ]
    }
   ],
   "source": [
    "class Student:\n",
    "    \n",
    "    def __init__(self,m1,m2):\n",
    "        self.m1 = m1\n",
    "        self.m2 = m2\n",
    "    \n",
    "    def __add__(self,other):\n",
    "        total = self.m1 + other.m1, self.m2+other.m2\n",
    "        print(total)\n",
    "        \n",
    "s1 = Student(23,45)\n",
    "#s2 = Student(78,68)\n",
    "#s3 = s1 + s2\n",
    "print(s1)\n",
    "\n",
    "#Here, we need to call the + operator to add the numbers"
   ]
  },
  {
   "cell_type": "code",
   "execution_count": 9,
   "metadata": {},
   "outputs": [
    {
     "name": "stdout",
     "output_type": "stream",
     "text": [
      "Anjana devi\n",
      "5900\n"
     ]
    }
   ],
   "source": [
    "class Employee:\n",
    "    \n",
    "    def __init__(self,sal1):\n",
    "        self.sal1 = sal1\n",
    "        \n",
    "    def __add__(self,other):\n",
    "        total = self.sal1+other.sal1\n",
    "        return total\n",
    "        \n",
    "obj1 = Employee(\"Anjana\")\n",
    "obj2 = Employee(\" devi\")       \n",
    "s1 = Employee(2500)\n",
    "s2 = Employee(3400)\n",
    "\n",
    "print(obj1+obj2)\n",
    "print(s1+s2)"
   ]
  },
  {
   "cell_type": "markdown",
   "metadata": {},
   "source": [
    "## Python isinstance \n",
    "\n",
    "checks if the object(arg1) is an instance or subclass of the classinfo(argf2) \n",
    "\n",
    "link : https://www.programiz.com/python-programming/methods/built-in/isinstance"
   ]
  },
  {
   "cell_type": "markdown",
   "metadata": {},
   "source": [
    "#### Syntax of isinstance() function\n",
    "\n",
    "Syntax : isinstance(object,classinfo)\n",
    "    \n",
    "Parameter:\n",
    "    \n",
    "1. object : object to be checked\n",
    "2. classinfo : class / type / tuple of class,types\n",
    "    \n",
    "Return: true if the object is an instance or subclass of a class, or any element of the tuple false otherwise. \n",
    "\n",
    "If class info is not a type or tuple of types, a TypeError exception is raised."
   ]
  },
  {
   "cell_type": "code",
   "execution_count": 10,
   "metadata": {},
   "outputs": [
    {
     "name": "stdout",
     "output_type": "stream",
     "text": [
      "True\n",
      "False\n",
      "False\n",
      "True\n"
     ]
    }
   ],
   "source": [
    "class Test:\n",
    "    a = 5\n",
    "    \n",
    "object_of_class = Test()\n",
    "\n",
    "print(isinstance(object_of_class,Test))\n",
    "print(isinstance(object_of_class,list))\n",
    "print(isinstance(object_of_class,(list,str)))\n",
    "print(isinstance(object_of_class,(list,str,Test)))"
   ]
  },
  {
   "cell_type": "code",
   "execution_count": 11,
   "metadata": {},
   "outputs": [
    {
     "ename": "TypeError",
     "evalue": "unsupported operand type(s) for &: 'int' and 'operator_overloading'",
     "output_type": "error",
     "traceback": [
      "\u001b[1;31m---------------------------------------------------------------------------\u001b[0m",
      "\u001b[1;31mTypeError\u001b[0m                                 Traceback (most recent call last)",
      "\u001b[1;32m<ipython-input-11-658783ff6077>\u001b[0m in \u001b[0;36m<module>\u001b[1;34m\u001b[0m\n\u001b[0;32m     13\u001b[0m \u001b[0ma1\u001b[0m \u001b[1;33m=\u001b[0m \u001b[1;36m2\u001b[0m\u001b[1;33m\u001b[0m\u001b[1;33m\u001b[0m\u001b[0m\n\u001b[0;32m     14\u001b[0m \u001b[0ma2\u001b[0m \u001b[1;33m=\u001b[0m \u001b[0moperator_overloading\u001b[0m\u001b[1;33m(\u001b[0m\u001b[1;36m3\u001b[0m\u001b[1;33m)\u001b[0m\u001b[1;33m\u001b[0m\u001b[1;33m\u001b[0m\u001b[0m\n\u001b[1;32m---> 15\u001b[1;33m \u001b[0mprint\u001b[0m\u001b[1;33m(\u001b[0m\u001b[0ma1\u001b[0m\u001b[1;33m&\u001b[0m\u001b[0ma2\u001b[0m\u001b[1;33m)\u001b[0m\u001b[1;33m\u001b[0m\u001b[1;33m\u001b[0m\u001b[0m\n\u001b[0m\u001b[0;32m     16\u001b[0m \u001b[1;33m\u001b[0m\u001b[0m\n",
      "\u001b[1;31mTypeError\u001b[0m: unsupported operand type(s) for &: 'int' and 'operator_overloading'"
     ]
    }
   ],
   "source": [
    "class operator_overloading():\n",
    "    \n",
    "    def __init__(self,val1):\n",
    "        self.val1 = val1\n",
    "        \n",
    "    def __and__(self,other):\n",
    "        print(\"And operator overloaded\")\n",
    "        if isinstance(other,operator_overloading):\n",
    "            return self.val1 & self.val1\n",
    "        else:\n",
    "            print(\"Must be an object of operator_overloading\")\n",
    "            \n",
    "a1 = 2\n",
    "a2 = operator_overloading(3)\n",
    "print(a1&a2)\n",
    "        "
   ]
  },
  {
   "cell_type": "code",
   "execution_count": 12,
   "metadata": {},
   "outputs": [
    {
     "name": "stdout",
     "output_type": "stream",
     "text": [
      "And operator overloaded\n",
      "Must be an object of operator_overloading\n",
      "None\n"
     ]
    }
   ],
   "source": [
    "class operator_overloading():\n",
    "    \n",
    "    def __init__(self,val1):\n",
    "        self.val1 = val1\n",
    "        \n",
    "    def __and__(self,other):\n",
    "        print(\"And operator overloaded\")\n",
    "        if isinstance(other,list):\n",
    "            return self.val1 & self.val1\n",
    "        else:\n",
    "            print(\"Must be an object of operator_overloading\")\n",
    "            \n",
    "a1 = operator_overloading(5)\n",
    "a2 = operator_overloading(3)\n",
    "print(a1&a2)"
   ]
  },
  {
   "cell_type": "code",
   "execution_count": 13,
   "metadata": {},
   "outputs": [
    {
     "name": "stdout",
     "output_type": "stream",
     "text": [
      "And operator overloaded\n",
      "8\n",
      "OR operator overloaded\n",
      "14\n",
      "XOR operator overloaded\n",
      "6\n",
      "LSHIFT operator overloaded\n",
      "40960\n",
      "RSHIFT operator overloaded\n",
      "0\n",
      "RSHIFT operator overloaded\n",
      "-11\n"
     ]
    }
   ],
   "source": [
    "class operator_overloading():\n",
    "    \n",
    "    def __init__(self,val):\n",
    "        self.val = val\n",
    "        \n",
    "    def __and__(self,other):\n",
    "        print(\"And operator overloaded\")\n",
    "        if isinstance(other,operator_overloading):\n",
    "            return self.val & other.val\n",
    "        else:\n",
    "            print(\"Must be an object of operator_overloading\")\n",
    "    \n",
    "    def __or__(self,other):\n",
    "        print(\"OR operator overloaded\")\n",
    "        if isinstance(other,operator_overloading):\n",
    "            return self.val | other.val\n",
    "        else:\n",
    "            print(\"Must be an object of operator_overloading\")\n",
    "       \n",
    "    def __xor__(self,other):\n",
    "        print(\"XOR operator overloaded\")\n",
    "        if isinstance(other,operator_overloading):\n",
    "            return self.val ^ other.val\n",
    "        else:\n",
    "            print(\"Must be an object of operator_overloading\")\n",
    "    \n",
    "    def __lshift__(self,other):\n",
    "        print(\"LSHIFT operator overloaded\")\n",
    "        if isinstance(other,operator_overloading):\n",
    "            return self.val << other.val\n",
    "        else:\n",
    "            print(\"Must be an object of operator_overloading\")\n",
    "            \n",
    "    def __rshift__(self,other):\n",
    "        print(\"RSHIFT operator overloaded\")\n",
    "        if isinstance(other,operator_overloading):\n",
    "            return self.val >> other.val\n",
    "        else:\n",
    "            print(\"Must be an object of operator_overloading\")\n",
    "            \n",
    "            \n",
    "    def __invert__(self):\n",
    "        print(\"RSHIFT operator overloaded\")\n",
    "        return ~self.val \n",
    "\n",
    "            \n",
    "        \n",
    "            \n",
    "a1 = operator_overloading(10)\n",
    "a2 = operator_overloading(12)\n",
    "print(a1 & a2)\n",
    "print(a1|a2)\n",
    "print(a1^a2)\n",
    "print(a1<<a2)\n",
    "print(a1>>a2)\n",
    "print(~a1)"
   ]
  },
  {
   "cell_type": "code",
   "execution_count": 14,
   "metadata": {},
   "outputs": [
    {
     "data": {
      "text/plain": [
       "0"
      ]
     },
     "execution_count": 14,
     "metadata": {},
     "output_type": "execute_result"
    }
   ],
   "source": [
    "10>>12"
   ]
  },
  {
   "cell_type": "markdown",
   "metadata": {},
   "source": [
    "### Keyword\n",
    "\n",
    "1. A keyword is a reserved word which gives a special meaning to the interpreter.\n",
    "2. It may be a command or parameter \n",
    "3. cannot be used as a variable name or function name in the program snippet\n",
    "4. In Python, keywords are case-sensitive.\n"
   ]
  },
  {
   "cell_type": "markdown",
   "metadata": {},
   "source": [
    "## is keyword in Python\n",
    "\n",
    "Link : https://www.geeksforgeeks.org/is-keyword-in-python/?ref=roadmap\n",
    "\n",
    "1. The “is” keyword in Python is used to test object identity\n",
    "2. “is keyword” is used to test whether two variables belong to the same object\n",
    "3. The test will return True if the two objects are the same else it will return False even if the two objects are 100% equal.\n",
    "\n",
    "Note: The == relational operator is used to test if two objects are the same."
   ]
  },
  {
   "cell_type": "markdown",
   "metadata": {},
   "source": [
    "#### syntax:\n",
    "\n",
    "a is b\n",
    "#Using if     \n",
    "if a is b:\n",
    "    statement(s)"
   ]
  },
  {
   "cell_type": "markdown",
   "metadata": {},
   "source": [
    "### Compare List Elements using is Keyword\n",
    "\n",
    "In this example, we will declare two different Python lists of the same \n",
    "elements and compare them using the ‘is’ keyword and the ‘==’ operator."
   ]
  },
  {
   "cell_type": "code",
   "execution_count": 15,
   "metadata": {},
   "outputs": [
    {
     "name": "stdout",
     "output_type": "stream",
     "text": [
      "False\n",
      "True\n"
     ]
    }
   ],
   "source": [
    "x = [\"10\",\"20\"]\n",
    "y = [\"10\",\"20\"]\n",
    "\n",
    "print(x is y)\n",
    "print(x==y)"
   ]
  },
  {
   "cell_type": "code",
   "execution_count": 16,
   "metadata": {},
   "outputs": [
    {
     "name": "stdout",
     "output_type": "stream",
     "text": [
      "False\n",
      "True\n"
     ]
    }
   ],
   "source": [
    "x = [\"10\"]\n",
    "y = [\"10\"]\n",
    "\n",
    "print(x is y)\n",
    "print(x==y)"
   ]
  },
  {
   "cell_type": "code",
   "execution_count": 17,
   "metadata": {},
   "outputs": [
    {
     "name": "stdout",
     "output_type": "stream",
     "text": [
      "True\n",
      "True\n"
     ]
    }
   ],
   "source": [
    "##Here, list takes two diff memory location \n",
    "\n",
    "r = \"Anjana\"\n",
    "u = \"Anjana\"\n",
    "\n",
    "print(r is u)\n",
    "print(r==u)"
   ]
  },
  {
   "cell_type": "code",
   "execution_count": 18,
   "metadata": {},
   "outputs": [
    {
     "name": "stdout",
     "output_type": "stream",
     "text": [
      "True\n",
      "True\n"
     ]
    }
   ],
   "source": [
    "a = 10\n",
    "b = 10\n",
    "\n",
    "print(a is b)\n",
    "print(a==b)"
   ]
  },
  {
   "cell_type": "markdown",
   "metadata": {},
   "source": [
    "## Python in Keyword\n",
    "\n",
    "Link : https://www.geeksforgeeks.org/python-in-keyword/?ref=roadmap\n",
    "        \n",
    "The ‘in’ keyword in Python returns True if a certain element is present in a Python object, else it will return False. It has two purposes:\n",
    "\n",
    "1. To check if a value is present in a list, tuple, range, string, etc.\n",
    "2. To iterate through a sequence in a for loop."
   ]
  },
  {
   "cell_type": "markdown",
   "metadata": {},
   "source": [
    "### Python ‘in’ keyword in Expression\n",
    "\n",
    "#Using if statement\n",
    "\n",
    "if element in sequence:\n",
    "\n",
    "    statement(s)\n",
    "\n",
    "#Using for statement\n",
    "\n",
    "for element in sequence:\n",
    "\n",
    "    statement(s)"
   ]
  },
  {
   "cell_type": "markdown",
   "metadata": {},
   "source": [
    "### Python in Keyword Usage"
   ]
  },
  {
   "cell_type": "markdown",
   "metadata": {},
   "source": [
    "#### “in” Keyword with Python if Statement\n",
    "\n",
    "create a Python list of animals and using in keyword checking for any animal in the list "
   ]
  },
  {
   "cell_type": "code",
   "execution_count": 19,
   "metadata": {},
   "outputs": [
    {
     "name": "stdout",
     "output_type": "stream",
     "text": [
      "Animal lion is present\n"
     ]
    }
   ],
   "source": [
    "animal_list = [\"Lion\",\"Dinosaur\",\"Cat\",\"Dog\"]\n",
    "if \"Lion\" in animal_list:\n",
    "    print(\"Animal lion is present\")"
   ]
  },
  {
   "cell_type": "markdown",
   "metadata": {},
   "source": [
    "### Use of in keyword in for loop in Python\n",
    "\n",
    "In this example, we will first define a Python String, and use for loop to iterate over each character in that string."
   ]
  },
  {
   "cell_type": "code",
   "execution_count": 68,
   "metadata": {},
   "outputs": [
    {
     "name": "stdout",
     "output_type": "stream",
     "text": [
      "A\n",
      "n\n",
      "j\n",
      "a\n",
      "n\n",
      "a\n",
      "D\n",
      "e\n",
      "v\n",
      "i\n"
     ]
    }
   ],
   "source": [
    "S = \"AnjanaDevi\"\n",
    "\n",
    "for i in S:\n",
    "    if i == \"d\":\n",
    "        break\n",
    "    else:\n",
    "        print(i)\n",
    "        \n",
    "#Case sensitive"
   ]
  },
  {
   "cell_type": "code",
   "execution_count": 69,
   "metadata": {},
   "outputs": [
    {
     "name": "stdout",
     "output_type": "stream",
     "text": [
      "A\n",
      "n\n",
      "j\n",
      "a\n",
      "n\n",
      "a\n"
     ]
    }
   ],
   "source": [
    "S = \"AnjanaDevi\"\n",
    "\n",
    "for i in S:\n",
    "    if i == \"D\":\n",
    "        break\n",
    "    else:\n",
    "        print(i)"
   ]
  },
  {
   "cell_type": "markdown",
   "metadata": {},
   "source": [
    "## Python Keywords\n",
    "\n",
    "Keywords in Python are reserved words that can not be used as a variable name, function name, or any other identifier.\n",
    "They are case sensitive"
   ]
  },
  {
   "attachments": {
    "image.png": {
     "image/png": "[encoded data removed]"
    }
   },
   "cell_type": "markdown",
   "metadata": {},
   "source": [
    "![image.png](attachment:image.png)"
   ]
  },
  {
   "attachments": {
    "image.png": {
     "image/png": "[encoded data removed]"
    }
   },
   "cell_type": "markdown",
   "metadata": {},
   "source": [
    "![image.png](attachment:image.png)"
   ]
  },
  {
   "cell_type": "markdown",
   "metadata": {},
   "source": [
    "#### Get the List of all Python keywords`"
   ]
  },
  {
   "cell_type": "code",
   "execution_count": 72,
   "metadata": {},
   "outputs": [
    {
     "name": "stdout",
     "output_type": "stream",
     "text": [
      "List of keywords : \n",
      "['False', 'None', 'True', 'and', 'as', 'assert', 'async', 'await', 'break', 'class', 'continue', 'def', 'del', 'elif', 'else', 'except', 'finally', 'for', 'from', 'global', 'if', 'import', 'in', 'is', 'lambda', 'nonlocal', 'not', 'or', 'pass', 'raise', 'return', 'try', 'while', 'with', 'yield']\n",
      "35\n"
     ]
    }
   ],
   "source": [
    "import keyword \n",
    "\n",
    "print(\"List of keywords : \")\n",
    "print(keyword.kwlist)\n",
    "print(len(keyword.kwlist))"
   ]
  },
  {
   "cell_type": "markdown",
   "metadata": {},
   "source": [
    "### True, False, None Keyword\n",
    "\n",
    "1. True: This keyword is used to represent a boolean true. If a statement is true, “True” is printed.\n",
    "2. False: This keyword is used to represent a boolean false. If a statement is false, “False” is printed. \n",
    "3. None: This is a special constant used to denote a null value or a void. \n",
    "   0, any empty container(e.g. empty list) does not compute to None. \n",
    "   It is an object of its datatype – NoneType. \n",
    "  It is not possible to create multiple None objects and can assign them to variables."
   ]
  },
  {
   "cell_type": "code",
   "execution_count": 80,
   "metadata": {},
   "outputs": [],
   "source": [
    "a = b = None"
   ]
  },
  {
   "cell_type": "code",
   "execution_count": 81,
   "metadata": {},
   "outputs": [
    {
     "name": "stdout",
     "output_type": "stream",
     "text": [
      "None\n",
      "None\n"
     ]
    },
    {
     "data": {
      "text/plain": [
       "(None, None)"
      ]
     },
     "execution_count": 81,
     "metadata": {},
     "output_type": "execute_result"
    }
   ],
   "source": [
    "print(a),print(b)"
   ]
  },
  {
   "cell_type": "code",
   "execution_count": 82,
   "metadata": {},
   "outputs": [
    {
     "name": "stdout",
     "output_type": "stream",
     "text": [
      "True\n",
      "True\n"
     ]
    }
   ],
   "source": [
    "print(True==1)\n",
    "print(False==0)"
   ]
  },
  {
   "cell_type": "code",
   "execution_count": 83,
   "metadata": {},
   "outputs": [
    {
     "name": "stdout",
     "output_type": "stream",
     "text": [
      "3\n",
      "2\n"
     ]
    }
   ],
   "source": [
    "print(True+True+True)\n",
    "print(True+False+True)"
   ]
  },
  {
   "cell_type": "code",
   "execution_count": 84,
   "metadata": {},
   "outputs": [
    {
     "name": "stdout",
     "output_type": "stream",
     "text": [
      "False\n",
      "False\n"
     ]
    }
   ],
   "source": [
    "print(None==0)\n",
    "print(None==[])"
   ]
  },
  {
   "cell_type": "code",
   "execution_count": 86,
   "metadata": {},
   "outputs": [
    {
     "name": "stdout",
     "output_type": "stream",
     "text": [
      "False\n",
      "True\n"
     ]
    }
   ],
   "source": [
    "print(None == '')\n",
    "print(None == None)"
   ]
  },
  {
   "cell_type": "markdown",
   "metadata": {},
   "source": [
    "### and, or, not, in, is\n",
    "\n",
    "1. and,or,not - logical operators\n",
    "2. in - returns true if any of the element is present in the list\n",
    "3. is - To test if two variables belong to same object"
   ]
  },
  {
   "cell_type": "markdown",
   "metadata": {},
   "source": [
    "### Iteration Keywords – for, while, break, continue"
   ]
  },
  {
   "cell_type": "markdown",
   "metadata": {},
   "source": [
    "1. for: This keyword is used to control flow and for looping.\n",
    "2. while: Has a similar working like “for”, used to control flow and for looping.\n",
    "3. break: “break” is used to control the flow of the loop. The statement is used to break out of the loop \n",
    "    and passes the control to the statement following immediately after loop.\n",
    "4. continue: “continue” is also used to control the flow of code. The keyword skips the \n",
    "    current iteration of the loop but does not end the loop."
   ]
  },
  {
   "cell_type": "code",
   "execution_count": 87,
   "metadata": {},
   "outputs": [
    {
     "name": "stdout",
     "output_type": "stream",
     "text": [
      "0\n",
      "1\n",
      "2\n",
      "3\n",
      "4\n",
      "5\n",
      "6\n"
     ]
    }
   ],
   "source": [
    "for i in range(10):\n",
    "    print(i)\n",
    "    if i == 6:\n",
    "        break"
   ]
  },
  {
   "cell_type": "code",
   "execution_count": 2,
   "metadata": {},
   "outputs": [
    {
     "name": "stdout",
     "output_type": "stream",
     "text": [
      "0\n",
      "1\n",
      "2\n",
      "3\n",
      "4\n",
      "5\n",
      "7\n",
      "8\n",
      "9\n",
      "10\n"
     ]
    }
   ],
   "source": [
    "i = 0\n",
    "while i<=10:\n",
    "    #print(i)\n",
    "    if i == 6:\n",
    "        i+=1\n",
    "        continue\n",
    "    else:\n",
    "        print(i)\n",
    "    i+=1\n",
    "        \n",
    "    "
   ]
  },
  {
   "cell_type": "code",
   "execution_count": 3,
   "metadata": {},
   "outputs": [],
   "source": [
    "#With while statement always start with variable initialization \n",
    "# While condition , if while i <10. write the program in order to fullfill the statement.else it will go into infinite loop"
   ]
  },
  {
   "cell_type": "markdown",
   "metadata": {},
   "source": [
    "### Conditional keywords – if, else, elif\n",
    "\n",
    "1. if : It is a control statement for decision making. Truth expression forces control to go in “if” statement block.\n",
    "2. else : It is a control statement for decision making. False expression forces control to go in “else” statement block.\n",
    "3. elif : It is a control statement for decision making. It is short for “else if“"
   ]
  },
  {
   "cell_type": "code",
   "execution_count": 6,
   "metadata": {},
   "outputs": [
    {
     "name": "stdout",
     "output_type": "stream",
     "text": [
      "Candidate knows English\n"
     ]
    }
   ],
   "source": [
    "Languages_known = [\"English\",\"Tamizh\",\"Telugu\",\"Hindi\",\"Kannada\"]\n",
    "if \"Chinese\" in Languages_known:\n",
    "    print(\"Candidate knows chinese\")\n",
    "elif \"English\" in Languages_known:\n",
    "    print(\"Candidate knows English\")\n",
    "elif \"German\" in Languages_known:\n",
    "    print(\"Candidate knows German\")\n",
    "else:\n",
    "    print(\"Candidate is not eligibile\")"
   ]
  },
  {
   "cell_type": "markdown",
   "metadata": {},
   "source": [
    "### def keyword\n",
    "\n",
    "1. Used to declare user-defined function"
   ]
  },
  {
   "cell_type": "code",
   "execution_count": 7,
   "metadata": {},
   "outputs": [
    {
     "name": "stdout",
     "output_type": "stream",
     "text": [
      "Inside Function\n"
     ]
    }
   ],
   "source": [
    "def get_fun():\n",
    "    print(\"Inside Function\")\n",
    "get_fun()"
   ]
  },
  {
   "cell_type": "code",
   "execution_count": 8,
   "metadata": {},
   "outputs": [
    {
     "name": "stdout",
     "output_type": "stream",
     "text": [
      "45\n"
     ]
    }
   ],
   "source": [
    "# Return keyword\n",
    "def fun():\n",
    "    S = 0\n",
    " \n",
    "    for i in range(10):\n",
    "        S += i\n",
    "    return S\n",
    " \n",
    " \n",
    "print(fun())"
   ]
  },
  {
   "cell_type": "code",
   "execution_count": 9,
   "metadata": {},
   "outputs": [
    {
     "data": {
      "text/plain": [
       "45"
      ]
     },
     "execution_count": 9,
     "metadata": {},
     "output_type": "execute_result"
    }
   ],
   "source": [
    "1+2+3+4+5+6+7+8+9"
   ]
  },
  {
   "cell_type": "code",
   "execution_count": 12,
   "metadata": {},
   "outputs": [],
   "source": [
    "def fun():\n",
    "    S = 0\n",
    " \n",
    "    for i in range(10):\n",
    "        S += i\n",
    "    yield S"
   ]
  },
  {
   "cell_type": "code",
   "execution_count": 13,
   "metadata": {},
   "outputs": [
    {
     "name": "stdout",
     "output_type": "stream",
     "text": [
      "<generator object fun at 0x0000029BDFC05BA0>\n"
     ]
    }
   ],
   "source": [
    "print(fun())"
   ]
  },
  {
   "cell_type": "code",
   "execution_count": 14,
   "metadata": {},
   "outputs": [
    {
     "name": "stdout",
     "output_type": "stream",
     "text": [
      "True\n"
     ]
    }
   ],
   "source": [
    "print (any([False, True, False, False]))"
   ]
  },
  {
   "cell_type": "markdown",
   "metadata": {},
   "source": [
    "### class keyword\n",
    "\n",
    "Used to declare user defined classes\n"
   ]
  },
  {
   "cell_type": "code",
   "execution_count": 2,
   "metadata": {},
   "outputs": [
    {
     "name": "stdout",
     "output_type": "stream",
     "text": [
      "I'm an  animal\n",
      "I'm  loyal\n"
     ]
    }
   ],
   "source": [
    "class Dog:\n",
    "    \n",
    "    #Declaring class attributes\n",
    "    attr1 = \"animal\"\n",
    "    attr2 = \"loyal\"\n",
    "    \n",
    "    def dog_fun(self):\n",
    "        print(\"I'm an \",self.attr1)\n",
    "        print(\"I'm \",self.attr2)\n",
    "        \n",
    "dog_obj = Dog()\n",
    "dog_obj.dog_fun()\n",
    "        "
   ]
  },
  {
   "cell_type": "markdown",
   "metadata": {},
   "source": [
    "## with keyword\n",
    "\n",
    "1. Used to wrap the execution of block of code\n",
    "2. used in file handling \n",
    "\n",
    "link : https://www.geeksforgeeks.org/with-statement-in-python/"
   ]
  },
  {
   "cell_type": "code",
   "execution_count": 14,
   "metadata": {},
   "outputs": [
    {
     "ename": "SyntaxError",
     "evalue": "(unicode error) 'unicodeescape' codec can't decode bytes in position 2-3: truncated \\UXXXXXXXX escape (<ipython-input-14-727593e513ae>, line 3)",
     "output_type": "error",
     "traceback": [
      "\u001b[1;36m  File \u001b[1;32m\"<ipython-input-14-727593e513ae>\"\u001b[1;36m, line \u001b[1;32m3\u001b[0m\n\u001b[1;33m    file1 = open('C:\\Users\\giree\\Desktop\\Anjana\\Python work','w')\u001b[0m\n\u001b[1;37m                 ^\u001b[0m\n\u001b[1;31mSyntaxError\u001b[0m\u001b[1;31m:\u001b[0m (unicode error) 'unicodeescape' codec can't decode bytes in position 2-3: truncated \\UXXXXXXXX escape\n"
     ]
    }
   ],
   "source": [
    "# File handling without statement:\n",
    "\n",
    "file1 = open('C:\\Users\\giree\\Desktop\\Anjana\\Python work','w')\n",
    "file1.write(\"Hello viewers\")\n",
    "file1.write(\"It's Anjana\")\n",
    "file1.close()"
   ]
  },
  {
   "cell_type": "code",
   "execution_count": 15,
   "metadata": {},
   "outputs": [],
   "source": [
    "file1 = open('C:/Users/giree/Desktop/Anjana/Python work/with_example.py','w')\n",
    "file1.write(\"Hello viewers\" + \"\\n\")\n",
    "file1.write(\"It's Anjana\")\n",
    "file1.close()"
   ]
  },
  {
   "cell_type": "code",
   "execution_count": 17,
   "metadata": {},
   "outputs": [],
   "source": [
    "## without with key word\n",
    "file1 = open('C:/Users/giree/Desktop/Anjana/Python work/with_example.py','w')\n",
    "try:\n",
    "    file1.write(\"Hello Gireesh\")\n",
    "finally:\n",
    "    file1.close"
   ]
  },
  {
   "cell_type": "code",
   "execution_count": 19,
   "metadata": {},
   "outputs": [],
   "source": [
    "with open('C:/Users/giree/Desktop/Anjana/Python work/with_example.py','w') as file3:\n",
    "    file3.write(\"#To show the example of with keyword\")"
   ]
  },
  {
   "cell_type": "markdown",
   "metadata": {},
   "source": [
    "#### Advantages of with :\n",
    "\n",
    "1. Will handle exceptions without writing try except\n",
    "2. Avoiding bugs and leaks\n",
    "3. Not requuired to explicitly menthion file.close()\n"
   ]
  },
  {
   "cell_type": "markdown",
   "metadata": {},
   "source": [
    "### as keyword \n",
    "\n",
    "1. create the alias for the module\n",
    "2. improves readability and simplicity of the program"
   ]
  },
  {
   "cell_type": "code",
   "execution_count": 21,
   "metadata": {},
   "outputs": [
    {
     "name": "stdout",
     "output_type": "stream",
     "text": [
      "120\n"
     ]
    }
   ],
   "source": [
    "import math as mt\n",
    "\n",
    "print(mt.factorial(5))"
   ]
  },
  {
   "cell_type": "markdown",
   "metadata": {},
   "source": [
    "### pass keyword\n",
    "\n",
    "1. pass is the null statement in python. \n",
    "2. Nothing happens when this is encountered. \n",
    "3. This is used to prevent indentation errors and used as a placeholder."
   ]
  },
  {
   "cell_type": "code",
   "execution_count": 23,
   "metadata": {},
   "outputs": [
    {
     "ename": "SyntaxError",
     "evalue": "unexpected EOF while parsing (<ipython-input-23-adbc26f3e542>, line 3)",
     "output_type": "error",
     "traceback": [
      "\u001b[1;36m  File \u001b[1;32m\"<ipython-input-23-adbc26f3e542>\"\u001b[1;36m, line \u001b[1;32m3\u001b[0m\n\u001b[1;33m    ## Gives an error\u001b[0m\n\u001b[1;37m                     ^\u001b[0m\n\u001b[1;31mSyntaxError\u001b[0m\u001b[1;31m:\u001b[0m unexpected EOF while parsing\n"
     ]
    }
   ],
   "source": [
    "for i in range(10):\n",
    "    \n",
    "## Gives an error"
   ]
  },
  {
   "cell_type": "code",
   "execution_count": 24,
   "metadata": {},
   "outputs": [],
   "source": [
    "for i in range(10):\n",
    "    pass"
   ]
  },
  {
   "cell_type": "markdown",
   "metadata": {},
   "source": [
    "### Lambda keyword\n",
    "\n",
    "1. make inline returning functions with no statements allowed internally\n",
    "2. To create anonymous function means that a function is without a name"
   ]
  },
  {
   "cell_type": "code",
   "execution_count": 26,
   "metadata": {},
   "outputs": [
    {
     "data": {
      "text/plain": [
       "25"
      ]
     },
     "execution_count": 26,
     "metadata": {},
     "output_type": "execute_result"
    }
   ],
   "source": [
    "obj = lambda x:x*x\n",
    "\n",
    "obj(5)"
   ]
  },
  {
   "cell_type": "markdown",
   "metadata": {},
   "source": [
    "### Import, From\n",
    "\n",
    "* import : used to import a particular module into current program\n",
    "* from : used with import to import particular functionality from the module imported\n",
    "    "
   ]
  },
  {
   "cell_type": "code",
   "execution_count": 28,
   "metadata": {},
   "outputs": [
    {
     "name": "stdout",
     "output_type": "stream",
     "text": [
      "Empty DataFrame\n",
      "Columns: []\n",
      "Index: []\n"
     ]
    }
   ],
   "source": [
    "import pandas\n",
    "df = pandas.DataFrame()\n",
    "print(df)"
   ]
  },
  {
   "cell_type": "code",
   "execution_count": 32,
   "metadata": {},
   "outputs": [
    {
     "name": "stdout",
     "output_type": "stream",
     "text": [
      "Empty DataFrame\n",
      "Columns: []\n",
      "Index: []\n"
     ]
    }
   ],
   "source": [
    "from pandas import DataFrame as df\n",
    "df2 = df()\n",
    "print(df2)"
   ]
  },
  {
   "cell_type": "code",
   "execution_count": null,
   "metadata": {},
   "outputs": [],
   "source": [
    "### Exception Handling Keywords – try, except, raise, finally, and assert\n",
    "\n"
   ]
  }
 ],
 "metadata": {
  "kernelspec": {
   "display_name": "Python 3",
   "language": "python",
   "name": "python3"
  },
  "language_info": {
   "codemirror_mode": {
    "name": "ipython",
    "version": 3
   },
   "file_extension": ".py",
   "mimetype": "text/x-python",
   "name": "python",
   "nbconvert_exporter": "python",
   "pygments_lexer": "ipython3",
   "version": "3.8.3"
  }
 },
 "nbformat": 4,
 "nbformat_minor": 4
}
