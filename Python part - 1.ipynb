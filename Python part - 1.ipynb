{
 "cells": [
  {
   "cell_type": "markdown",
   "metadata": {},
   "source": [
    "## Taking INPUT in Python"
   ]
  },
  {
   "cell_type": "markdown",
   "metadata": {},
   "source": [
    "Syntax: \n",
    "\n",
    " input(prompt)\n",
    " \n",
    " raw_input(prompt)"
   ]
  },
  {
   "cell_type": "markdown",
   "metadata": {},
   "source": [
    "1. Takes the input from user and prints the output in string\n",
    "2. Type of return object - \"STRING\"\n",
    "3. provides a built-in-function called \"input\" \n",
    "4. when the input function is called, it waits for the user to provide the input. when user presses enter, it prints whatever \n",
    "the user has typed in\n",
    "5. Whatever you enter as input, the input function converts it into a string. if you enter an integer value still input() function converts it into a string. You need to explicitly convert it into an integer in your code using typecasting. "
   ]
  },
  {
   "cell_type": "markdown",
   "metadata": {},
   "source": [
    "### Input function"
   ]
  },
  {
   "cell_type": "code",
   "execution_count": null,
   "metadata": {},
   "outputs": [],
   "source": [
    "name = input(\"Enter your name \")\n",
    "print(\"User name is {}\" .format(name))\n",
    "print(\"Type of the input is {}\" .format(type(name)))"
   ]
  },
  {
   "cell_type": "code",
   "execution_count": null,
   "metadata": {},
   "outputs": [],
   "source": [
    "num = input(\"Enter your age \")\n",
    "print(\"User age is {}\" .format(num))\n",
    "print(\"Type of the input is {}\" .format(type(num)))"
   ]
  },
  {
   "cell_type": "markdown",
   "metadata": {},
   "source": [
    "### raw_input function"
   ]
  },
  {
   "cell_type": "markdown",
   "metadata": {},
   "source": [
    "1. This function works in older version - python2\n",
    "2. It takes whatever is typed in keyboard, converts it to string and returns to the variable in which we want to store it\n"
   ]
  },
  {
   "cell_type": "code",
   "execution_count": null,
   "metadata": {},
   "outputs": [],
   "source": [
    "raw = raw_input(\"Enter the raw input\")\n",
    "\n",
    "## Works in older versions"
   ]
  },
  {
   "cell_type": "markdown",
   "metadata": {},
   "source": [
    "### Type casting "
   ]
  },
  {
   "cell_type": "code",
   "execution_count": null,
   "metadata": {},
   "outputs": [],
   "source": [
    "num = int(input(\"Enter your age \"))\n",
    "print(\"Number is  {}\".format(num))\n",
    "print(\"Type of number is {}\".format(type(num)))"
   ]
  },
  {
   "cell_type": "code",
   "execution_count": null,
   "metadata": {},
   "outputs": [],
   "source": [
    "float_num = float(input(\"Enter your height in inches\"))\n",
    "print(\"Height is {}\".format(float_num))\n",
    "print(\"Type of height is {}\".format(type(float_num)))"
   ]
  },
  {
   "cell_type": "code",
   "execution_count": null,
   "metadata": {},
   "outputs": [],
   "source": [
    "string = str(input(\"enter number \"))\n",
    "print(\"string number is : {}\".format(string))\n",
    "print(\"Type of string number is {}\".format(type(string)))"
   ]
  },
  {
   "cell_type": "markdown",
   "metadata": {},
   "source": [
    "### CONSOLE IN PYTHON "
   ]
  },
  {
   "cell_type": "markdown",
   "metadata": {},
   "source": [
    "1. Shell - command line interpreter that takes input from user\n",
    "2. Primary prompt of the python is greater than symbol"
   ]
  },
  {
   "cell_type": "markdown",
   "metadata": {},
   "source": [
    "## Taking multiple inputs in one line"
   ]
  },
  {
   "cell_type": "markdown",
   "metadata": {},
   "source": [
    "1. Takes multiple values or input in one line by two methods:\n",
    "\n",
    "    a. Using split()\n",
    "    b. Using list Comprehension"
   ]
  },
  {
   "cell_type": "markdown",
   "metadata": {},
   "source": [
    "#### Using split() method"
   ]
  },
  {
   "cell_type": "markdown",
   "metadata": {},
   "source": [
    "1. Split method is used to split a python string\n",
    "\n",
    "syntax : input().split(seperator,maxsplit)\n",
    "\n",
    "* seperator - Specifies the separator to use when splitting the string. By default any whitespace is a separator.\n",
    "* maxsplit - Specifies how many splits to do. Default value is -1, which is \"all occurrences\"."
   ]
  },
  {
   "cell_type": "code",
   "execution_count": null,
   "metadata": {},
   "outputs": [],
   "source": [
    "input(\"Enter two values\").split(\" \",3)"
   ]
  },
  {
   "cell_type": "code",
   "execution_count": null,
   "metadata": {},
   "outputs": [],
   "source": [
    "input(\"Enter some values \").split(\" \",3)"
   ]
  },
  {
   "cell_type": "code",
   "execution_count": null,
   "metadata": {},
   "outputs": [],
   "source": [
    "##Note: When maxsplit is specified, the list will contain the specified number of elements plus one."
   ]
  },
  {
   "cell_type": "code",
   "execution_count": null,
   "metadata": {
    "scrolled": true
   },
   "outputs": [],
   "source": [
    "# To print multiple inputs in list\n",
    "\n",
    "x_list = list(map(int,input(\"Enter the numbers seperated by #\").split(\"#\",3)))\n",
    "print(x_list)"
   ]
  },
  {
   "cell_type": "code",
   "execution_count": null,
   "metadata": {},
   "outputs": [],
   "source": [
    "#A funcvtion inside map can be any data type or any function defintiopn too"
   ]
  },
  {
   "cell_type": "code",
   "execution_count": null,
   "metadata": {},
   "outputs": [],
   "source": [
    "x_list = list(map(str,input(\"Enter the numbers seperated by #\").split(\"#\",3)))\n",
    "print(\"List of numbers are \",x_list)"
   ]
  },
  {
   "cell_type": "markdown",
   "metadata": {},
   "source": [
    "##### mapobject(which is an iterator) of the results\n",
    "\n",
    "* syntax : map(fun,iter) "
   ]
  },
  {
   "cell_type": "markdown",
   "metadata": {},
   "source": [
    "### Using List comprehension"
   ]
  },
  {
   "cell_type": "markdown",
   "metadata": {},
   "source": [
    "syntax : newlist = [element for element in old list if condition]"
   ]
  },
  {
   "cell_type": "code",
   "execution_count": null,
   "metadata": {},
   "outputs": [],
   "source": [
    "x,y = [int(x) for x in input(\"Enter two numbers sep by space\").split()]\n",
    "print(x,y)"
   ]
  },
  {
   "cell_type": "code",
   "execution_count": null,
   "metadata": {},
   "outputs": [],
   "source": [
    "x = [int(x)*2 for x in input(\"Enter number to be doubled\").split() ]\n",
    "print(x)"
   ]
  },
  {
   "cell_type": "code",
   "execution_count": null,
   "metadata": {},
   "outputs": [],
   "source": [
    "'3'*2"
   ]
  },
  {
   "cell_type": "code",
   "execution_count": null,
   "metadata": {
    "scrolled": true
   },
   "outputs": [],
   "source": [
    "x = [int(x*2) for x in input(\"Enter number to be doubled\").split() ]\n",
    "print(x)"
   ]
  },
  {
   "cell_type": "markdown",
   "metadata": {},
   "source": [
    "### Output using print() function"
   ]
  },
  {
   "cell_type": "markdown",
   "metadata": {},
   "source": [
    "link : https://www.geeksforgeeks.org/python-output-using-print-function/"
   ]
  },
  {
   "cell_type": "markdown",
   "metadata": {},
   "source": [
    "syntax : print(value(s),sep='',end = '\\n',flush=flush,file=file)\n",
    "\n",
    "value(s):Any value and as many as we like. will be converted to string before printing\n",
    "\n",
    "sep : (Optional)specify how the objects has to be seperated if there are more than one. default=''(single space)\n",
    "\n",
    "end : (Optional)specify what to print at the end. Default end = '\\n'\n",
    "\n",
    "file: (Optional)file where it needs to written\n",
    "\n",
    "flush: (Optional)Boolean if the output is flushed(True) or buffered(False). Default : False"
   ]
  },
  {
   "cell_type": "markdown",
   "metadata": {},
   "source": [
    "##### Flush explanation "
   ]
  },
  {
   "attachments": {
    "buffer%20explanation.png": {
     "image/png": "[encoded data removed]"
    }
   },
   "cell_type": "markdown",
   "metadata": {},
   "source": [
    "![buffer%20explanation.png](attachment:buffer%20explanation.png)"
   ]
  },
  {
   "cell_type": "markdown",
   "metadata": {},
   "source": [
    "##### Flush use case"
   ]
  },
  {
   "cell_type": "code",
   "execution_count": null,
   "metadata": {},
   "outputs": [],
   "source": [
    "import time\n",
    "\n",
    "count_sec = 3\n",
    "for num in reversed(range(count_sec+1)):\n",
    "    if num>0:\n",
    "        print(num,end=\">>>\",flush=False)\n",
    "        time.sleep(3)\n",
    "    else:\n",
    "        print(\"Start\")"
   ]
  },
  {
   "cell_type": "code",
   "execution_count": null,
   "metadata": {},
   "outputs": [],
   "source": [
    "import time\n",
    "\n",
    "count_sec = 3\n",
    "for num in reversed(range(count_sec+1)):\n",
    "    if num>0:\n",
    "        print(num,end=\">>>\",flush=True)\n",
    "        time.sleep(3)\n",
    "    else:\n",
    "        print(\"Start\")"
   ]
  },
  {
   "cell_type": "code",
   "execution_count": null,
   "metadata": {},
   "outputs": [],
   "source": [
    "###There is no difference in flush with this use case as such"
   ]
  },
  {
   "cell_type": "markdown",
   "metadata": {},
   "source": [
    "###### sep"
   ]
  },
  {
   "cell_type": "markdown",
   "metadata": {},
   "source": [
    "If there are more than one object, more than one object. \"hello world\" is one object. sep tells how to seperate objects"
   ]
  },
  {
   "cell_type": "code",
   "execution_count": null,
   "metadata": {},
   "outputs": [],
   "source": [
    "print(\"Hello world\")"
   ]
  },
  {
   "cell_type": "code",
   "execution_count": null,
   "metadata": {},
   "outputs": [],
   "source": [
    "print(\"This is a system\",sep=';')"
   ]
  },
  {
   "cell_type": "code",
   "execution_count": null,
   "metadata": {},
   "outputs": [],
   "source": [
    "print(\"This\", \"is\", \"a system\",sep=';')"
   ]
  },
  {
   "cell_type": "markdown",
   "metadata": {},
   "source": [
    "##### end"
   ]
  },
  {
   "cell_type": "code",
   "execution_count": null,
   "metadata": {},
   "outputs": [],
   "source": [
    "print(\"Welcome to \",end = \"\")\n",
    "print(\"python basics part-1\")"
   ]
  },
  {
   "cell_type": "code",
   "execution_count": null,
   "metadata": {},
   "outputs": [],
   "source": [
    "print(\"Welcome to \",end = \"\\r\")\n",
    "print(\"python basics part-1\")\n",
    "### \\r - overides the previous output"
   ]
  },
  {
   "cell_type": "code",
   "execution_count": null,
   "metadata": {},
   "outputs": [],
   "source": [
    "pwd"
   ]
  },
  {
   "cell_type": "code",
   "execution_count": null,
   "metadata": {},
   "outputs": [],
   "source": [
    "print(\"C\",end=\":\\\\\")\n",
    "print(\"Users\",\"giree\",\"Desktop\",\"Anjana\",\"Python work\",sep=\"\\\\\")"
   ]
  },
  {
   "cell_type": "code",
   "execution_count": null,
   "metadata": {},
   "outputs": [],
   "source": [
    "print(\"Robin\",end=\"\\b\")\n",
    "print(\"Sharma\")"
   ]
  },
  {
   "cell_type": "markdown",
   "metadata": {},
   "source": [
    "##### file "
   ]
  },
  {
   "cell_type": "code",
   "execution_count": null,
   "metadata": {},
   "outputs": [],
   "source": [
    "source_file = open(\"print_file.txt\",'w')\n",
    "print(\"This is how file parameter is used in text file\",file=source_file)\n",
    "source_file.close()"
   ]
  },
  {
   "cell_type": "code",
   "execution_count": null,
   "metadata": {},
   "outputs": [],
   "source": [
    "ls"
   ]
  },
  {
   "cell_type": "code",
   "execution_count": null,
   "metadata": {},
   "outputs": [],
   "source": [
    "f = open(\"print_file.txt\", \"r\")\n",
    "print(f.read())"
   ]
  },
  {
   "cell_type": "markdown",
   "metadata": {},
   "source": [
    "#### HOW TO PRINT WITHOUT NEW LINE IN PYTHON"
   ]
  },
  {
   "cell_type": "markdown",
   "metadata": {},
   "source": [
    "##### Print without new line in python 2.x"
   ]
  },
  {
   "cell_type": "code",
   "execution_count": null,
   "metadata": {},
   "outputs": [],
   "source": []
  },
  {
   "cell_type": "code",
   "execution_count": null,
   "metadata": {},
   "outputs": [],
   "source": [
    "print(\"Anjana\")\n",
    "print(\"is a data scientist\")\n",
    "\n",
    "##As this is python 3, this function doesn't work here "
   ]
  },
  {
   "cell_type": "code",
   "execution_count": null,
   "metadata": {},
   "outputs": [],
   "source": [
    "print(\"Anjana\",end=\" \")\n",
    "print(\"is a data scientist\")\n"
   ]
  },
  {
   "cell_type": "code",
   "execution_count": null,
   "metadata": {},
   "outputs": [],
   "source": [
    "listing = [1,2,3,5]\n",
    "print(*listing)"
   ]
  },
  {
   "cell_type": "code",
   "execution_count": null,
   "metadata": {
    "scrolled": true
   },
   "outputs": [],
   "source": [
    "print(listing)\n",
    "\n",
    "###If all the elements needs to be printed without new line and for loop, use *"
   ]
  },
  {
   "cell_type": "code",
   "execution_count": null,
   "metadata": {},
   "outputs": [],
   "source": [
    "import sys\n",
    "\n",
    "sys.stdout.write(\"Anjana is \")\n",
    "sys.stdout.write(\"also a data engineer\")"
   ]
  },
  {
   "cell_type": "markdown",
   "metadata": {},
   "source": [
    "### Sys module "
   ]
  },
  {
   "cell_type": "markdown",
   "metadata": {},
   "source": [
    "link : https://www.geeksforgeeks.org/python-sys-module/"
   ]
  },
  {
   "cell_type": "markdown",
   "metadata": {},
   "source": [
    "1. built-in module which provides access to system specific variables and functions\n",
    "2. Allows to interact directly with Python interpreter and perform operations related to system env"
   ]
  },
  {
   "cell_type": "code",
   "execution_count": null,
   "metadata": {},
   "outputs": [],
   "source": [
    "print(sys.version)\n",
    "##Shows the version of python interpreter "
   ]
  },
  {
   "cell_type": "markdown",
   "metadata": {},
   "source": [
    "#### Standard Input/Output"
   ]
  },
  {
   "cell_type": "markdown",
   "metadata": {},
   "source": [
    "#### Three variables which provide control over input and output "
   ]
  },
  {
   "cell_type": "markdown",
   "metadata": {},
   "source": [
    "1. stdin\n",
    "2. stdout\n",
    "3. stderr"
   ]
  },
  {
   "cell_type": "markdown",
   "metadata": {},
   "source": [
    "##### stdin\n",
    "\n",
    "Standard input which is used to get input from command line directly. Internally calls input() method"
   ]
  },
  {
   "cell_type": "code",
   "execution_count": null,
   "metadata": {},
   "outputs": [],
   "source": [
    "print(sys.stdin)"
   ]
  },
  {
   "cell_type": "markdown",
   "metadata": {},
   "source": [
    "link : https://www.geeksforgeeks.org/take-input-from-stdin-in-python/"
   ]
  },
  {
   "cell_type": "markdown",
   "metadata": {},
   "source": [
    "Number of ways we can take input from stdin in python \n",
    "1. sys.stdin\n",
    "2. input()\n",
    "3. fileinput.input()"
   ]
  },
  {
   "cell_type": "markdown",
   "metadata": {},
   "source": [
    "##### sys.stdin"
   ]
  },
  {
   "cell_type": "code",
   "execution_count": null,
   "metadata": {},
   "outputs": [],
   "source": [
    "import sys\n",
    "\n",
    "for element in sys.stdin:\n",
    "    print(element)"
   ]
  },
  {
   "cell_type": "code",
   "execution_count": null,
   "metadata": {},
   "outputs": [],
   "source": [
    "input(\"enter anything \")"
   ]
  },
  {
   "cell_type": "code",
   "execution_count": null,
   "metadata": {},
   "outputs": [],
   "source": [
    "import sys\n",
    " \n",
    "for line in sys.stdin.readline():\n",
    "    if 'q' == line.rstrip():\n",
    "        break\n",
    "    print(f'Input : {line}')\n",
    " \n",
    "print(\"Exit\")"
   ]
  },
  {
   "cell_type": "code",
   "execution_count": null,
   "metadata": {},
   "outputs": [],
   "source": [
    "print(sys.stdin.readline())"
   ]
  },
  {
   "cell_type": "markdown",
   "metadata": {},
   "source": [
    "##### input()"
   ]
  },
  {
   "cell_type": "code",
   "execution_count": null,
   "metadata": {},
   "outputs": [],
   "source": [
    "input_a = input(\"Enter your name \")\n",
    "print(input_a)"
   ]
  },
  {
   "cell_type": "markdown",
   "metadata": {},
   "source": [
    "##### fileinput.input()"
   ]
  },
  {
   "cell_type": "code",
   "execution_count": null,
   "metadata": {},
   "outputs": [],
   "source": [
    "#To read lines in the files mentioned \n",
    "#Mention the file name with type of the file "
   ]
  },
  {
   "cell_type": "code",
   "execution_count": null,
   "metadata": {},
   "outputs": [],
   "source": [
    "import fileinput\n",
    "\n",
    "with fileinput.input(files=('sample.txt','print_file.txt')) as f:\n",
    "    for line in f:\n",
    "        print(line)"
   ]
  },
  {
   "cell_type": "code",
   "execution_count": null,
   "metadata": {},
   "outputs": [],
   "source": [
    "pwd"
   ]
  },
  {
   "cell_type": "code",
   "execution_count": null,
   "metadata": {
    "scrolled": true
   },
   "outputs": [],
   "source": [
    "import sys\n",
    "  \n",
    "name = sys.stdin.readline()\n",
    "print(name)\n",
    "  \n",
    "num = sys.stdin.readline(2)\n",
    "print(num)"
   ]
  },
  {
   "cell_type": "code",
   "execution_count": null,
   "metadata": {},
   "outputs": [],
   "source": [
    "###Check the output in shell"
   ]
  },
  {
   "cell_type": "markdown",
   "metadata": {},
   "source": [
    "### Difference between input() and sys.stdin.readline()"
   ]
  },
  {
   "attachments": {
    "diff%20between%20input%20and%20stdin.png": {
     "image/png": "[encoded data removed]"
    }
   },
   "cell_type": "markdown",
   "metadata": {},
   "source": [
    "![diff%20between%20input%20and%20stdin.png](attachment:diff%20between%20input%20and%20stdin.png)"
   ]
  },
  {
   "cell_type": "markdown",
   "metadata": {},
   "source": [
    " ### STDOUT"
   ]
  },
  {
   "cell_type": "markdown",
   "metadata": {},
   "source": [
    "1. Built in file object analogous to output \n",
    "2. Prints output to the screen\n",
    "3. Whenever print fundtion is called, it is first written to sys.stdout and then to the screen"
   ]
  },
  {
   "cell_type": "code",
   "execution_count": null,
   "metadata": {},
   "outputs": [],
   "source": [
    "sys.stdout.write(\"Anjana Gireesh\")"
   ]
  },
  {
   "cell_type": "markdown",
   "metadata": {},
   "source": [
    "### STDERR"
   ]
  },
  {
   "cell_type": "markdown",
   "metadata": {},
   "source": [
    "1. Whenever an exception occurs, it is written to sys.stderr \n",
    "2. Default error output device"
   ]
  },
  {
   "cell_type": "markdown",
   "metadata": {},
   "source": [
    "1. sys.stderr is a file like object represents standard error stream.\n",
    "2. output error message and diagnostic information from any python program\n",
    "3. base of textIOBase"
   ]
  },
  {
   "cell_type": "code",
   "execution_count": null,
   "metadata": {},
   "outputs": [],
   "source": [
    "def print_to_stderr(*a): \n",
    "  \n",
    "    # Here a is the array holding the objects \n",
    "    # passed as the argument of the function \n",
    "    print(*a, file = sys.stderr) \n",
    "  \n",
    "print_to_stderr(\"Hello World\") "
   ]
  },
  {
   "cell_type": "markdown",
   "metadata": {},
   "source": [
    "#### Syntax for \"stderr\" message \n",
    "\n",
    "sys.stderr.write(\"error message in string\")"
   ]
  },
  {
   "cell_type": "code",
   "execution_count": null,
   "metadata": {},
   "outputs": [],
   "source": [
    "import sys\n",
    "\n",
    "#Divide by zero exception\n",
    "\n",
    "def divide_by_zero(a,b):\n",
    "    try:\n",
    "        result = a/b\n",
    "        return result\n",
    "    except ZeroDivisionError as e:\n",
    "        error_message = \" Error : Division by zero is not allowed\"\n",
    "        sys.stderr.write(error_message)\n",
    "\n",
    "a = int(input(\"Enter number1 \"))\n",
    "b = int(input(\"Enter number2 \"))\n",
    "result_from_fun = divide_by_zero(a,b)\n",
    "print(result_from_fun)\n"
   ]
  },
  {
   "cell_type": "code",
   "execution_count": null,
   "metadata": {},
   "outputs": [],
   "source": [
    "##Writing error to a file:\n",
    "\n",
    "import sys\n",
    "\n",
    "error_file = open(\"error_file.txt\",\"w\")\n",
    "#Assigning error stream to a file  \n",
    "sys.stderr = error_file\n",
    "\n",
    "sys.stderr.write(\"An error occured\")\n",
    "error_file.close()\n"
   ]
  },
  {
   "cell_type": "markdown",
   "metadata": {},
   "source": [
    "#### Command-line Arguments"
   ]
  },
  {
   "cell_type": "code",
   "execution_count": null,
   "metadata": {},
   "outputs": [],
   "source": []
  }
 ],
 "metadata": {
  "kernelspec": {
   "display_name": "Python 3",
   "language": "python",
   "name": "python3"
  },
  "language_info": {
   "codemirror_mode": {
    "name": "ipython",
    "version": 3
   },
   "file_extension": ".py",
   "mimetype": "text/x-python",
   "name": "python",
   "nbconvert_exporter": "python",
   "pygments_lexer": "ipython3",
   "version": "3.8.3"
  }
 },
 "nbformat": 4,
 "nbformat_minor": 4
}
