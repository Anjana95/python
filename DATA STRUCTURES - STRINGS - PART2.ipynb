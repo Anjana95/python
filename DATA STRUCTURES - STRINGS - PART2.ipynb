{
 "cells": [
  {
   "cell_type": "markdown",
   "metadata": {},
   "source": [
    "## String formatting in Python\n",
    "\n",
    "link : https://www.geeksforgeeks.org/string-formatting-in-python/?ref=roadmap\n",
    "        \n",
    "There are five different ways to perform string formatting in Python\n",
    "\n",
    "    1. Formatting with % Operator.\n",
    "    2. Formatting with format() string method.\n",
    "    3. Formatting with string literals, called f-strings.\n",
    "    4. Formatting with String Template Class\n",
    "    5. Formatting with center() string method."
   ]
  },
  {
   "cell_type": "markdown",
   "metadata": {},
   "source": [
    "### Formatting string using % Operator"
   ]
  },
  {
   "cell_type": "code",
   "execution_count": 4,
   "metadata": {},
   "outputs": [
    {
     "name": "stdout",
     "output_type": "stream",
     "text": [
      "Anjana is a women \n"
     ]
    }
   ],
   "source": [
    "print(\"%s is a women \"%\"Anjana\")"
   ]
  },
  {
   "cell_type": "code",
   "execution_count": 5,
   "metadata": {},
   "outputs": [
    {
     "name": "stdout",
     "output_type": "stream",
     "text": [
      "Anjana is a women and working as a Data engineer\n"
     ]
    }
   ],
   "source": [
    "print(\"%s is a women and working as a %s\"%(\"Anjana\",\"Data engineer\"))"
   ]
  },
  {
   "cell_type": "markdown",
   "metadata": {},
   "source": [
    "#### Precision Handling in Python using % operator\n",
    "\n",
    "* Floating-point numbers use the format %a.bf. Here, a would be the minimum number of digits to be present in the string; \n",
    "* these might be padded with white space if the whole number doesn’t have this many digits. \n",
    "* Close to this, bf represents how many digits are to be displayed after the decimal point. "
   ]
  },
  {
   "cell_type": "code",
   "execution_count": 6,
   "metadata": {},
   "outputs": [
    {
     "name": "stdout",
     "output_type": "stream",
     "text": [
      "Value of pi is 3.1416\n"
     ]
    }
   ],
   "source": [
    "print(\"Value of pi is %3.4f\"%(3.141567990879887))"
   ]
  },
  {
   "cell_type": "code",
   "execution_count": 7,
   "metadata": {},
   "outputs": [
    {
     "name": "stdout",
     "output_type": "stream",
     "text": [
      "Value of pi is 3.10\n"
     ]
    }
   ],
   "source": [
    "print(\"Value of pi is %3.2f\"%(3.1))"
   ]
  },
  {
   "cell_type": "code",
   "execution_count": 10,
   "metadata": {},
   "outputs": [
    {
     "name": "stdout",
     "output_type": "stream",
     "text": [
      "Value of 4898969879.0000\n"
     ]
    }
   ],
   "source": [
    "print(\"Value of %1.4f\"%(4898969879))"
   ]
  },
  {
   "cell_type": "code",
   "execution_count": 11,
   "metadata": {},
   "outputs": [
    {
     "name": "stdout",
     "output_type": "stream",
     "text": [
      "Value of 4898969879.0000\n"
     ]
    }
   ],
   "source": [
    "print(\"Value of %3.4f\"%(4898969879))"
   ]
  },
  {
   "cell_type": "code",
   "execution_count": 13,
   "metadata": {},
   "outputs": [
    {
     "name": "stdout",
     "output_type": "stream",
     "text": [
      "Value of 4898969879\n"
     ]
    }
   ],
   "source": [
    "print(\"Value of %1.f\"%(4898969879))"
   ]
  },
  {
   "cell_type": "code",
   "execution_count": 17,
   "metadata": {},
   "outputs": [
    {
     "name": "stdout",
     "output_type": "stream",
     "text": [
      "Value of   4\n"
     ]
    }
   ],
   "source": [
    "print(\"Value of %3.f\"%(4))\n",
    "#As 4 is a whole number, it is padded with 2 white spaces because format specifier is 3"
   ]
  },
  {
   "cell_type": "markdown",
   "metadata": {},
   "source": [
    "### Type Specifying In Python\n",
    "\n",
    "link : https://www.geeksforgeeks.org/python-string-format-method/?ref=lbp\n",
    "\n",
    "* More parameters can be included within the curly braces of our syntax. \n",
    "* Use the format code syntax {field_name: conversion}, \n",
    "  where field_name specifies the index number of the argument to the str.format() method, and conversion refers to the conversion code of the data type."
   ]
  },
  {
   "cell_type": "markdown",
   "metadata": {},
   "source": [
    "#### Using %s – string conversion via str() prior to formatting"
   ]
  },
  {
   "cell_type": "code",
   "execution_count": 59,
   "metadata": {},
   "outputs": [
    {
     "name": "stdout",
     "output_type": "stream",
     "text": [
      "          Anjanadevi\n"
     ]
    }
   ],
   "source": [
    "print(\"%20s\"%\"Anjanadevi\")"
   ]
  },
  {
   "cell_type": "code",
   "execution_count": 60,
   "metadata": {},
   "outputs": [
    {
     "name": "stdout",
     "output_type": "stream",
     "text": [
      "Anjanadevi\n"
     ]
    }
   ],
   "source": [
    "print(\"%4s\"%\"Anjanadevi\")"
   ]
  },
  {
   "cell_type": "code",
   "execution_count": 61,
   "metadata": {},
   "outputs": [
    {
     "name": "stdout",
     "output_type": "stream",
     "text": [
      "Anjanadevi\n"
     ]
    }
   ],
   "source": [
    "print(\"%-4s\"%\"Anjanadevi\")"
   ]
  },
  {
   "cell_type": "code",
   "execution_count": 62,
   "metadata": {},
   "outputs": [
    {
     "name": "stdout",
     "output_type": "stream",
     "text": [
      "Anja\n"
     ]
    }
   ],
   "source": [
    "print(\"%.4s\"%\"Anjanadevi\")"
   ]
  },
  {
   "cell_type": "code",
   "execution_count": 64,
   "metadata": {},
   "outputs": [
    {
     "name": "stdout",
     "output_type": "stream",
     "text": [
      "Anjan\n"
     ]
    }
   ],
   "source": [
    "print(\"%.5s\"%\"Anjanadevi\")"
   ]
  },
  {
   "cell_type": "markdown",
   "metadata": {},
   "source": [
    "#### Using %c– character  prior to formatting"
   ]
  },
  {
   "cell_type": "code",
   "execution_count": 67,
   "metadata": {},
   "outputs": [
    {
     "name": "stdout",
     "output_type": "stream",
     "text": [
      "T is a Beautiful day\n"
     ]
    }
   ],
   "source": [
    "print(\"%c is a %s day\"%(\"T\",\"Beautiful\"))\n",
    "\n",
    "## %c - single char or letter"
   ]
  },
  {
   "cell_type": "markdown",
   "metadata": {},
   "source": [
    "#### Using %i signed decimal integer and %d signed decimal integer(base-10) prior to formatting"
   ]
  },
  {
   "cell_type": "code",
   "execution_count": 69,
   "metadata": {},
   "outputs": [
    {
     "name": "stdout",
     "output_type": "stream",
     "text": [
      "-1 is the negative value of 1\n"
     ]
    }
   ],
   "source": [
    "print(\"%.i is the negative value of %d\"%(-1.23456,1.23456))"
   ]
  },
  {
   "cell_type": "code",
   "execution_count": 74,
   "metadata": {},
   "outputs": [
    {
     "name": "stdout",
     "output_type": "stream",
     "text": [
      "-0001 is the negative value of 1.2346\n"
     ]
    }
   ],
   "source": [
    "print(\"%.4i is the negative value of %.4f\"%(-1.23456,1.23456))"
   ]
  },
  {
   "cell_type": "code",
   "execution_count": 73,
   "metadata": {},
   "outputs": [
    {
     "ename": "ValueError",
     "evalue": "unsupported format character ':' (0x3a) at index 2",
     "output_type": "error",
     "traceback": [
      "\u001b[1;31m---------------------------------------------------------------------------\u001b[0m",
      "\u001b[1;31mValueError\u001b[0m                                Traceback (most recent call last)",
      "\u001b[1;32m<ipython-input-73-37fc86f8416e>\u001b[0m in \u001b[0;36m<module>\u001b[1;34m\u001b[0m\n\u001b[1;32m----> 1\u001b[1;33m \u001b[0mprint\u001b[0m\u001b[1;33m(\u001b[0m\u001b[1;34m\"%1:.4i is the negative value of %1:.4f\"\u001b[0m\u001b[1;33m%\u001b[0m\u001b[1;33m(\u001b[0m\u001b[1;33m-\u001b[0m\u001b[1;36m1.23456\u001b[0m\u001b[1;33m,\u001b[0m\u001b[1;36m1.23456\u001b[0m\u001b[1;33m)\u001b[0m\u001b[1;33m)\u001b[0m\u001b[1;33m\u001b[0m\u001b[1;33m\u001b[0m\u001b[0m\n\u001b[0m",
      "\u001b[1;31mValueError\u001b[0m: unsupported format character ':' (0x3a) at index 2"
     ]
    }
   ],
   "source": [
    "print(\"%1:.4i is the negative value of %1:.4f\"%(-1.23456,1.23456))"
   ]
  },
  {
   "cell_type": "markdown",
   "metadata": {},
   "source": [
    "##### Another useful Type Specifying \n",
    "\n",
    "    * %u unsigned decimal integer\n",
    "    * %o octal integer\n",
    "    * f – floating-point display\n",
    "    * b – binary number\n",
    "    * o – octal number\n",
    "    * %x – hexadecimal with lowercase letters after 9\n",
    "    * %X– hexadecimal with uppercase letters after 9\n",
    "    * e – exponent notation"
   ]
  },
  {
   "cell_type": "markdown",
   "metadata": {},
   "source": [
    "#### Padding Substitutions or Generating Spaces\n",
    "\n",
    "By default, strings are left-justified within the field, and numbers are right-justified. We can modify this by placing an alignment code just following the colon.\n",
    "\n",
    "     <   :  left-align text in the field\n",
    "     ^   :  center text in the field\n",
    "     >   :  right-align text in the field"
   ]
  },
  {
   "cell_type": "code",
   "execution_count": 78,
   "metadata": {},
   "outputs": [
    {
     "name": "stdout",
     "output_type": "stream",
     "text": [
      "Anjana     is a Data scientist    \n"
     ]
    }
   ],
   "source": [
    "print(\"{0:10} is a {1:18}\".format(\"Anjana\",\"Data scientist\"))"
   ]
  },
  {
   "cell_type": "code",
   "execution_count": 79,
   "metadata": {},
   "outputs": [
    {
     "name": "stdout",
     "output_type": "stream",
     "text": [
      "  Anjana   is a Data scientist    \n"
     ]
    }
   ],
   "source": [
    "print(\"{0:^10} is a {1:18}\".format(\"Anjana\",\"Data scientist\"))"
   ]
  },
  {
   "cell_type": "code",
   "execution_count": 82,
   "metadata": {},
   "outputs": [
    {
     "name": "stdout",
     "output_type": "stream",
     "text": [
      "  Anjana   is a     Data scientist. She can be both     Data scientist\n"
     ]
    }
   ],
   "source": [
    "print(\"{0:^10} is a {1:>18}. She can be both {1:>18}\".format(\"Anjana\",\"Data scientist\"))"
   ]
  },
  {
   "cell_type": "markdown",
   "metadata": {},
   "source": [
    "#### Multiple format conversion types"
   ]
  },
  {
   "cell_type": "code",
   "execution_count": 18,
   "metadata": {},
   "outputs": [
    {
     "name": "stdout",
     "output_type": "stream",
     "text": [
      "Variable as integere is 14 \n",
      " Variable as float is 14.000000\n"
     ]
    }
   ],
   "source": [
    "var = 14\n",
    "print(\"Variable as integere is %d \\n Variable as float is %f\"%(var,var))"
   ]
  },
  {
   "cell_type": "markdown",
   "metadata": {},
   "source": [
    "#### Formatting String using format() Method"
   ]
  },
  {
   "cell_type": "markdown",
   "metadata": {},
   "source": [
    "##### {} as a placeholder"
   ]
  },
  {
   "cell_type": "code",
   "execution_count": 19,
   "metadata": {},
   "outputs": [
    {
     "name": "stdout",
     "output_type": "stream",
     "text": [
      "My name is Anjana\n"
     ]
    }
   ],
   "source": [
    "print(\"My name is {}\".format(\"Anjana\"))"
   ]
  },
  {
   "cell_type": "markdown",
   "metadata": {},
   "source": [
    "#### String format() IndexError\n"
   ]
  },
  {
   "cell_type": "code",
   "execution_count": 47,
   "metadata": {},
   "outputs": [
    {
     "ename": "IndexError",
     "evalue": "Replacement index 1 out of range for positional args tuple",
     "output_type": "error",
     "traceback": [
      "\u001b[1;31m---------------------------------------------------------------------------\u001b[0m",
      "\u001b[1;31mIndexError\u001b[0m                                Traceback (most recent call last)",
      "\u001b[1;32m<ipython-input-47-f57937e8db93>\u001b[0m in \u001b[0;36m<module>\u001b[1;34m\u001b[0m\n\u001b[1;32m----> 1\u001b[1;33m \u001b[0mprint\u001b[0m\u001b[1;33m(\u001b[0m\u001b[1;34m\"{} of the candidate is {}\"\u001b[0m\u001b[1;33m.\u001b[0m\u001b[0mformat\u001b[0m\u001b[1;33m(\u001b[0m\u001b[1;34m\"name\"\u001b[0m\u001b[1;33m)\u001b[0m\u001b[1;33m)\u001b[0m\u001b[1;33m\u001b[0m\u001b[1;33m\u001b[0m\u001b[0m\n\u001b[0m",
      "\u001b[1;31mIndexError\u001b[0m: Replacement index 1 out of range for positional args tuple"
     ]
    }
   ],
   "source": [
    "print(\"{} of the candidate is {}\".format(\"name\"))"
   ]
  },
  {
   "attachments": {
    "image.png": {
     "image/png": "[encoded data removed]"
    }
   },
   "cell_type": "markdown",
   "metadata": {},
   "source": [
    "### Formatting Strings using Escape Sequences\n",
    "\n",
    "![image.png](attachment:image.png)"
   ]
  },
  {
   "cell_type": "code",
   "execution_count": 53,
   "metadata": {},
   "outputs": [
    {
     "name": "stdout",
     "output_type": "stream",
     "text": [
      "Anjana\n",
      "devi\n"
     ]
    }
   ],
   "source": [
    "print(\"Anjana\\ndevi\")"
   ]
  },
  {
   "cell_type": "code",
   "execution_count": 54,
   "metadata": {},
   "outputs": [
    {
     "name": "stdout",
     "output_type": "stream",
     "text": [
      "Anjana\tdevi\n"
     ]
    }
   ],
   "source": [
    "print(\"Anjana\\tdevi\")"
   ]
  },
  {
   "cell_type": "code",
   "execution_count": 55,
   "metadata": {},
   "outputs": [
    {
     "name": "stdout",
     "output_type": "stream",
     "text": [
      "Anjana de'vi\n"
     ]
    }
   ],
   "source": [
    "print(\"Anjana de\\'vi\")"
   ]
  },
  {
   "cell_type": "code",
   "execution_count": 56,
   "metadata": {},
   "outputs": [
    {
     "name": "stdout",
     "output_type": "stream",
     "text": [
      "Anjana\\devi\n"
     ]
    }
   ],
   "source": [
    "print(\"Anjana\\\\devi\")"
   ]
  },
  {
   "cell_type": "code",
   "execution_count": 57,
   "metadata": {},
   "outputs": [
    {
     "name": "stdout",
     "output_type": "stream",
     "text": [
      "Anjana\"devi\n"
     ]
    }
   ],
   "source": [
    "print(\"Anjana\\\"devi\")"
   ]
  },
  {
   "cell_type": "code",
   "execution_count": 52,
   "metadata": {},
   "outputs": [
    {
     "name": "stdout",
     "output_type": "stream",
     "text": [
      "\u0007\n"
     ]
    }
   ],
   "source": [
    "print('\\a') "
   ]
  },
  {
   "cell_type": "markdown",
   "metadata": {},
   "source": [
    "##### Index-based Insertion"
   ]
  },
  {
   "cell_type": "code",
   "execution_count": 20,
   "metadata": {},
   "outputs": [
    {
     "name": "stdout",
     "output_type": "stream",
     "text": [
      "My name is Anjana and I am from India, moved to Taiwan since August\n"
     ]
    }
   ],
   "source": [
    "print(\"My name is {3} and I am from {1}, moved to {0} since {2}\".format(\"Taiwan\",\"India\",\"August\",\"Anjana\"))"
   ]
  },
  {
   "cell_type": "markdown",
   "metadata": {},
   "source": [
    "##### Insert object by Assigning Keywords"
   ]
  },
  {
   "cell_type": "code",
   "execution_count": 21,
   "metadata": {},
   "outputs": [
    {
     "name": "stdout",
     "output_type": "stream",
     "text": [
      "My name is Anjana and I am from India, moved to Taiwan since August\n"
     ]
    }
   ],
   "source": [
    "print(\"My name is {a} and I am from {b}, moved to {c} since {d}\".format(c=\"Taiwan\",b=\"India\",d=\"August\",a=\"Anjana\"))"
   ]
  },
  {
   "cell_type": "markdown",
   "metadata": {},
   "source": [
    "##### Reuse the inserted objects"
   ]
  },
  {
   "cell_type": "code",
   "execution_count": 22,
   "metadata": {},
   "outputs": [
    {
     "name": "stdout",
     "output_type": "stream",
     "text": [
      "First second was allright but, the second second was tough\n"
     ]
    }
   ],
   "source": [
    "print(\"First {p} was allright but, the {p} {p} was tough\".format(p=\"second\"))"
   ]
  },
  {
   "cell_type": "markdown",
   "metadata": {},
   "source": [
    "### Float Precision with the.format() Method\n",
    "\n",
    "Syntax: {[index]:[width][.precision][type]}\n",
    "\n",
    "The type can be used with format codes:\n",
    "\n",
    "* ‘d’ for integers\n",
    "* ‘f’ for floating-point numbers\n",
    "* ‘b’ for binary numbers\n",
    "* ‘o’ for octal numbers\n",
    "* ‘x’ for octal hexadecimal numbers\n",
    "* ‘s’ for string\n",
    "* ‘e’ for floating-point in an exponent format"
   ]
  },
  {
   "cell_type": "code",
   "execution_count": 24,
   "metadata": {},
   "outputs": [
    {
     "name": "stdout",
     "output_type": "stream",
     "text": [
      "Value of pi is 3.134\n"
     ]
    }
   ],
   "source": [
    "print(\"Value of pi is %1.3f\"%3.13446587546584837554)"
   ]
  },
  {
   "cell_type": "code",
   "execution_count": 45,
   "metadata": {},
   "outputs": [
    {
     "name": "stdout",
     "output_type": "stream",
     "text": [
      "Value of pi is 3.134\n"
     ]
    }
   ],
   "source": [
    "print(\"Value of pi is {0:1.3f}\".format(3.13446587546584837554))"
   ]
  },
  {
   "cell_type": "code",
   "execution_count": 46,
   "metadata": {},
   "outputs": [
    {
     "name": "stdout",
     "output_type": "stream",
     "text": [
      "I have 3.170\n"
     ]
    }
   ],
   "source": [
    "print(\"I have {n:1.3f}\".format(n=3.1698089))"
   ]
  },
  {
   "cell_type": "markdown",
   "metadata": {},
   "source": [
    "### Understanding Python f-string\n",
    "\n",
    "1. PEP 498 introduced a new string formatting mechanism known as Literal String Interpolation or more commonly as F-strings\n"
   ]
  },
  {
   "cell_type": "code",
   "execution_count": 28,
   "metadata": {},
   "outputs": [
    {
     "name": "stdout",
     "output_type": "stream",
     "text": [
      "My name is Anjana\n"
     ]
    }
   ],
   "source": [
    "user_name = \"Anjana\"\n",
    "print(f\"My name is {user_name}\")"
   ]
  },
  {
   "cell_type": "markdown",
   "metadata": {},
   "source": [
    "##### Arithmetic operations using F-strings"
   ]
  },
  {
   "cell_type": "code",
   "execution_count": 30,
   "metadata": {},
   "outputs": [
    {
     "name": "stdout",
     "output_type": "stream",
     "text": [
      "Age of the women is 30\n"
     ]
    }
   ],
   "source": [
    "n = 15\n",
    "print(f\"Age of the women is {2*n}\")"
   ]
  },
  {
   "cell_type": "code",
   "execution_count": 31,
   "metadata": {},
   "outputs": [
    {
     "name": "stdout",
     "output_type": "stream",
     "text": [
      "Teen's age start from 16\n"
     ]
    }
   ],
   "source": [
    "a = 2\n",
    "b = 8\n",
    "\n",
    "print(f\"Teen's age start from {a*b}\")"
   ]
  },
  {
   "cell_type": "markdown",
   "metadata": {},
   "source": [
    "#### Lambda Expressions using F-strings"
   ]
  },
  {
   "cell_type": "code",
   "execution_count": 33,
   "metadata": {},
   "outputs": [
    {
     "name": "stdout",
     "output_type": "stream",
     "text": [
      "lambda expressions are 8\n"
     ]
    }
   ],
   "source": [
    "print(f\"lambda expressions are {(lambda x:x*2)(4)}\")"
   ]
  },
  {
   "cell_type": "markdown",
   "metadata": {},
   "source": [
    "#### Float precision in the f-String Method\n",
    "\n",
    "Syntax: {value:{width}.{precision}}\n",
    "\n",
    "Return : Precision value with \"precision\" to +1 , precision = 3 then value will be 3+1"
   ]
  },
  {
   "cell_type": "code",
   "execution_count": 37,
   "metadata": {},
   "outputs": [
    {
     "name": "stdout",
     "output_type": "stream",
     "text": [
      "Value is 9.35\n"
     ]
    }
   ],
   "source": [
    "num = 9.34567890\n",
    "\n",
    "print(f\"Value is {num:{1}.{3}}\")"
   ]
  },
  {
   "cell_type": "markdown",
   "metadata": {},
   "source": [
    "### Python String Template Class\n",
    "\n",
    "* The format uses placeholder names formed by $ with valid Python identifiers (alphanumeric characters and underscores)"
   ]
  },
  {
   "cell_type": "code",
   "execution_count": 43,
   "metadata": {},
   "outputs": [
    {
     "name": "stdout",
     "output_type": "stream",
     "text": [
      "<string.Template object at 0x000002025CF16EE0>\n"
     ]
    }
   ],
   "source": [
    "from string import Template\n",
    "\n",
    "n1 = \"Hello\"\n",
    "n2 = \"Anjana Devi Seetharaman\"\n",
    "\n",
    "\n",
    "print(Template(\"$rep_n1 ! Thi is $rep_n2\"))"
   ]
  },
  {
   "cell_type": "code",
   "execution_count": 44,
   "metadata": {},
   "outputs": [
    {
     "data": {
      "text/plain": [
       "'Hello ! Thi is Anjana Devi Seetharaman'"
      ]
     },
     "execution_count": 44,
     "metadata": {},
     "output_type": "execute_result"
    }
   ],
   "source": [
    "str_temp = Template(\"$rep_n1 ! Thi is $rep_n2\")\n",
    "str_temp.substitute(rep_n1=n1,rep_n2=n2)"
   ]
  },
  {
   "cell_type": "markdown",
   "metadata": {},
   "source": [
    "#### String formatting: % vs. .format vs. f-string literal"
   ]
  },
  {
   "cell_type": "markdown",
   "metadata": {},
   "source": [
    "* f-strings are faster and better than both %-formatting and str.format(). \n",
    "* f-strings expressions are evaluated at runtime\n",
    "* we can also embed expressions inside f-string, using a very simple and easy syntax"
   ]
  },
  {
   "cell_type": "markdown",
   "metadata": {},
   "source": [
    "### Applications"
   ]
  },
  {
   "cell_type": "markdown",
   "metadata": {},
   "source": [
    "#### Example: To demonstrate the organization of large data using format()"
   ]
  },
  {
   "cell_type": "code",
   "execution_count": 87,
   "metadata": {},
   "outputs": [
    {
     "name": "stdout",
     "output_type": "stream",
     "text": [
      "Enter the starting range in integer only2\n",
      "Enter the end range in integer only15\n",
      "Unorganized data : \n",
      "2 4 8 16\n",
      "3 9 27 81\n",
      "4 16 64 256\n",
      "5 25 125 625\n",
      "6 36 216 1296\n",
      "7 49 343 2401\n",
      "8 64 512 4096\n",
      "9 81 729 6561\n",
      "10 100 1000 10000\n",
      "11 121 1331 14641\n",
      "12 144 1728 20736\n",
      "13 169 2197 28561\n",
      "14 196 2744 38416\n",
      "Organized data : \n",
      "    2         4         8         16    \n",
      "    3         9         27        81    \n",
      "    4         16        64       256    \n",
      "    5         25       125       625    \n",
      "    6         36       216       1296   \n",
      "    7         49       343       2401   \n",
      "    8         64       512       4096   \n",
      "    9         81       729       6561   \n",
      "    10       100       1000     10000   \n",
      "    11       121       1331     14641   \n",
      "    12       144       1728     20736   \n",
      "    13       169       2197     28561   \n",
      "    14       196       2744     38416   \n"
     ]
    }
   ],
   "source": [
    "def unorganized(a,b):\n",
    "    for i in range(a,b):\n",
    "        print(i,i**2,i**3,i**4)\n",
    "        \n",
    "def organized(a,b):\n",
    "    for i in range(a,b):\n",
    "        print(\"{:^10d}{:^10d}{:^10d}{:^10d}\".format(i,i**2,i**3,i**4))\n",
    "\n",
    "\n",
    "a = int(input(\"Enter the starting range in integer only\"))\n",
    "b = int(input(\"Enter the end range in integer only\"))\n",
    "              \n",
    "print(\"Unorganized data : \")\n",
    "unorganized(a,b)\n",
    "              \n",
    "print(\"Organized data : \")\n",
    "organized(a,b)"
   ]
  },
  {
   "cell_type": "markdown",
   "metadata": {},
   "source": [
    "#### Using a dictionary for string formatting \n",
    "\n",
    "    * Using a dictionary to unpack values into the placeholders in the string that needs to be formatted.\n",
    "    * We basically use ** to unpack the values. \n",
    "    * This method can be useful in string substitution while preparing an SQL query."
   ]
  },
  {
   "cell_type": "code",
   "execution_count": 88,
   "metadata": {},
   "outputs": [
    {
     "name": "stdout",
     "output_type": "stream",
     "text": [
      "My name is Anjana devi Seetharaman. I am working as Data Engineer\n"
     ]
    }
   ],
   "source": [
    "int_dict = {\"F_name\":\"Anjana\",\"M_name\":\"devi\",\"L_name\":\"Seetharaman\",\"work\":\"Data Engineer\"}\n",
    "\n",
    "print(\"My name is {F_name} {M_name} {L_name}. I am working as {work}\".format(**int_dict))"
   ]
  },
  {
   "cell_type": "markdown",
   "metadata": {},
   "source": [
    "#### Python format() with list\n",
    "\n",
    "Given a list of float values, the task is to truncate all float values to 2 decimal digits"
   ]
  },
  {
   "cell_type": "code",
   "execution_count": 89,
   "metadata": {},
   "outputs": [
    {
     "name": "stdout",
     "output_type": "stream",
     "text": [
      "['10.46', '139.44', '67.50', '56.36']\n"
     ]
    }
   ],
   "source": [
    "f_list = [10.4647598,139.437483,67.49836483,56.3638]\n",
    "print([\"{:.2f}\".format(el) for el in f_list])"
   ]
  },
  {
   "cell_type": "code",
   "execution_count": null,
   "metadata": {},
   "outputs": [],
   "source": []
  }
 ],
 "metadata": {
  "kernelspec": {
   "display_name": "Python 3",
   "language": "python",
   "name": "python3"
  },
  "language_info": {
   "codemirror_mode": {
    "name": "ipython",
    "version": 3
   },
   "file_extension": ".py",
   "mimetype": "text/x-python",
   "name": "python",
   "nbconvert_exporter": "python",
   "pygments_lexer": "ipython3",
   "version": "3.8.3"
  }
 },
 "nbformat": 4,
 "nbformat_minor": 4
}
