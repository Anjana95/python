{
 "cells": [
  {
   "cell_type": "markdown",
   "metadata": {},
   "source": [
    "### VARIABLES"
   ]
  },
  {
   "cell_type": "markdown",
   "metadata": {},
   "source": [
    "1. Variables in python are containers that store values \n",
    "2. Not required to declare or declare their type before using them.\n",
    "3. variable is created when a value is assigned to them\n",
    "3. Also a name given to a memory location\n",
    "\n",
    "\n",
    "Link : https://www.geeksforgeeks.org/python-variables/?ref=roadmap"
   ]
  },
  {
   "cell_type": "code",
   "execution_count": 1,
   "metadata": {},
   "outputs": [
    {
     "name": "stdout",
     "output_type": "stream",
     "text": [
      "Anjana\n"
     ]
    }
   ],
   "source": [
    "var = \"Anjana\"\n",
    "print(var)"
   ]
  },
  {
   "cell_type": "markdown",
   "metadata": {},
   "source": [
    "Notes:\n",
    "\n",
    "1. The value stored in a variable can be changed during program execution.\n",
    "2. A Variables in Python is only a name given to a memory location, all the operations done on the variable effects that memory location."
   ]
  },
  {
   "cell_type": "markdown",
   "metadata": {},
   "source": [
    "#### Rules for Python variables"
   ]
  },
  {
   "cell_type": "markdown",
   "metadata": {},
   "source": [
    "1. A Python variable name must start with a letter or the underscore character.\n",
    "2. A Python variable name cannot start with a number.\n",
    "3. A Python variable name can only contain alpha-numeric characters and underscores (A-z, 0-9, and _ ).\n",
    "4. Variable in Python names are case-sensitive (name, Name, and NAME are three different variables).\n",
    "5. The reserved words(keywords) in Python cannot be used to name the variable in Python."
   ]
  },
  {
   "cell_type": "code",
   "execution_count": 2,
   "metadata": {},
   "outputs": [
    {
     "name": "stdout",
     "output_type": "stream",
     "text": [
      "1\n",
      "2\n",
      "3\n",
      "4\n"
     ]
    }
   ],
   "source": [
    "variable = 1\n",
    "Variable = 2\n",
    "var_ = 3\n",
    "_var = 4\n",
    "\n",
    "\n",
    "print(variable)\n",
    "print(Variable)\n",
    "print(var_)\n",
    "print(_var)"
   ]
  },
  {
   "cell_type": "markdown",
   "metadata": {},
   "source": [
    "#### Variables Assignment in Python"
   ]
  },
  {
   "cell_type": "code",
   "execution_count": 3,
   "metadata": {},
   "outputs": [],
   "source": [
    "Name = \"John\"\n",
    "age = 28\n",
    "salary = 1456.8"
   ]
  },
  {
   "cell_type": "code",
   "execution_count": 4,
   "metadata": {},
   "outputs": [
    {
     "name": "stdout",
     "output_type": "stream",
     "text": [
      "John 28 1456.8\n"
     ]
    }
   ],
   "source": [
    "print(Name,age,salary)"
   ]
  },
  {
   "cell_type": "markdown",
   "metadata": {},
   "source": [
    "#### Redeclaring variables in Python"
   ]
  },
  {
   "cell_type": "code",
   "execution_count": 5,
   "metadata": {},
   "outputs": [
    {
     "name": "stdout",
     "output_type": "stream",
     "text": [
      "Anjana\n"
     ]
    }
   ],
   "source": [
    "value1 = 20\n",
    "value1 = \"Anjana\"\n",
    "\n",
    "print(value1)"
   ]
  },
  {
   "cell_type": "markdown",
   "metadata": {},
   "source": [
    "#### Python Assign Values to Multiple Variables "
   ]
  },
  {
   "cell_type": "code",
   "execution_count": 6,
   "metadata": {},
   "outputs": [],
   "source": [
    "a=b=c=d = 19"
   ]
  },
  {
   "cell_type": "code",
   "execution_count": 7,
   "metadata": {},
   "outputs": [
    {
     "name": "stdout",
     "output_type": "stream",
     "text": [
      "19 19 19 19\n"
     ]
    }
   ],
   "source": [
    "print(a,b,c,d)"
   ]
  },
  {
   "cell_type": "markdown",
   "metadata": {},
   "source": [
    "#### Assigning different values to multiple variables"
   ]
  },
  {
   "cell_type": "code",
   "execution_count": 8,
   "metadata": {},
   "outputs": [],
   "source": [
    "a,b,c = 1,20.9,\"Anjana\""
   ]
  },
  {
   "cell_type": "code",
   "execution_count": 9,
   "metadata": {},
   "outputs": [
    {
     "name": "stdout",
     "output_type": "stream",
     "text": [
      "1 20.9 Anjana\n"
     ]
    }
   ],
   "source": [
    "print(a,b,c)"
   ]
  },
  {
   "cell_type": "markdown",
   "metadata": {},
   "source": [
    "#### If we use the same name, the variable starts referring to a new value and type. "
   ]
  },
  {
   "cell_type": "code",
   "execution_count": 10,
   "metadata": {},
   "outputs": [
    {
     "name": "stdout",
     "output_type": "stream",
     "text": [
      "Variable is String\n",
      "Type of Variable is <class 'str'>\n"
     ]
    }
   ],
   "source": [
    "g = 10\n",
    "g = \"String\"\n",
    "\n",
    "print(\"Variable is {}\".format(g))\n",
    "print(\"Type of Variable is {}\".format(type(g)))"
   ]
  },
  {
   "cell_type": "markdown",
   "metadata": {},
   "source": [
    "#### How does + operator work with variables? "
   ]
  },
  {
   "cell_type": "markdown",
   "metadata": {},
   "source": [
    "1. way to add the values if it's a number\n",
    "2. concatenate strings "
   ]
  },
  {
   "cell_type": "code",
   "execution_count": 11,
   "metadata": {},
   "outputs": [
    {
     "name": "stdout",
     "output_type": "stream",
     "text": [
      "30\n"
     ]
    }
   ],
   "source": [
    "a = 10\n",
    "b = 20\n",
    "c = a+b\n",
    "\n",
    "print(a+b)"
   ]
  },
  {
   "cell_type": "markdown",
   "metadata": {},
   "source": [
    "#### + for different Datatypes"
   ]
  },
  {
   "cell_type": "code",
   "execution_count": 12,
   "metadata": {},
   "outputs": [
    {
     "ename": "TypeError",
     "evalue": "unsupported operand type(s) for +: 'int' and 'str'",
     "output_type": "error",
     "traceback": [
      "\u001b[1;31m---------------------------------------------------------------------------\u001b[0m",
      "\u001b[1;31mTypeError\u001b[0m                                 Traceback (most recent call last)",
      "\u001b[1;32m<ipython-input-12-b0de4172db9a>\u001b[0m in \u001b[0;36m<module>\u001b[1;34m\u001b[0m\n\u001b[0;32m      2\u001b[0m \u001b[0mb\u001b[0m \u001b[1;33m=\u001b[0m \u001b[1;34m\"Twenty\"\u001b[0m\u001b[1;33m\u001b[0m\u001b[1;33m\u001b[0m\u001b[0m\n\u001b[0;32m      3\u001b[0m \u001b[1;33m\u001b[0m\u001b[0m\n\u001b[1;32m----> 4\u001b[1;33m \u001b[0mc\u001b[0m \u001b[1;33m=\u001b[0m \u001b[0ma\u001b[0m\u001b[1;33m+\u001b[0m\u001b[0mb\u001b[0m\u001b[1;33m\u001b[0m\u001b[1;33m\u001b[0m\u001b[0m\n\u001b[0m",
      "\u001b[1;31mTypeError\u001b[0m: unsupported operand type(s) for +: 'int' and 'str'"
     ]
    }
   ],
   "source": [
    "a = 20\n",
    "b = \"Twenty\"\n",
    "\n",
    "c = a+b"
   ]
  },
  {
   "cell_type": "markdown",
   "metadata": {},
   "source": [
    "#### Local Python Variables"
   ]
  },
  {
   "cell_type": "markdown",
   "metadata": {},
   "source": [
    "1. Defined and declared inside a function \n",
    "2. Cannot call this variable outside function"
   ]
  },
  {
   "cell_type": "code",
   "execution_count": null,
   "metadata": {},
   "outputs": [],
   "source": [
    "def func1():\n",
    "    local_var = 39\n",
    "    print(local_var)\n",
    "    \n",
    "if __name__ == '__main__':\n",
    "    func1()\n"
   ]
  },
  {
   "cell_type": "markdown",
   "metadata": {},
   "source": [
    "#### Global Python Variables"
   ]
  },
  {
   "cell_type": "markdown",
   "metadata": {},
   "source": [
    "1. Defined and declared outside a function \n",
    "2. Can call this variable outside function"
   ]
  },
  {
   "cell_type": "code",
   "execution_count": null,
   "metadata": {},
   "outputs": [],
   "source": [
    "#Global variable\n",
    "var1 = 90\n",
    "\n",
    "def func2():\n",
    "    var2 = 89\n",
    "    var3 = var1+var2\n",
    "    print(var3)\n",
    "    \n",
    "\n",
    "if __name__ == '__main__':\n",
    "    func2()"
   ]
  },
  {
   "cell_type": "code",
   "execution_count": null,
   "metadata": {},
   "outputs": [],
   "source": [
    "def fun3():\n",
    "    print(string)"
   ]
  },
  {
   "cell_type": "code",
   "execution_count": null,
   "metadata": {},
   "outputs": [],
   "source": [
    "var_string=\"Anjana\"\n",
    "fun3()"
   ]
  },
  {
   "cell_type": "code",
   "execution_count": null,
   "metadata": {},
   "outputs": [],
   "source": [
    "# Here Local variable declared outside the function should have the same name as variable inside"
   ]
  },
  {
   "cell_type": "markdown",
   "metadata": {},
   "source": [
    "### Global keyword in Python"
   ]
  },
  {
   "cell_type": "markdown",
   "metadata": {},
   "source": [
    "1. Modify a variable outside the current scope\n",
    "2. create global variables from the non-global scope i.e., inside a function\n",
    "3. Used to do assignments or to change a variable\n",
    "4. Not for printing or accessing\n",
    "\n"
   ]
  },
  {
   "cell_type": "markdown",
   "metadata": {},
   "source": [
    "Rules of global keyword\n",
    "\n",
    "1. If a variable is assigned a value anywhere within the function’s body, it’s assumed to be local unless explicitly declared as global.\n",
    "2. Variables that are only referenced inside a function are implicitly global.\n",
    "2. We use a global in Python to use a global variable inside a function.\n",
    "3. There is no need to use a global keyword in Python outside a function."
   ]
  },
  {
   "cell_type": "code",
   "execution_count": null,
   "metadata": {},
   "outputs": [],
   "source": [
    "x = 10\n",
    "def change():   \n",
    "    x = x+10\n",
    "    print(\"Variable inside function is {}\".format(x))\n",
    "\n",
    "change()\n",
    "print(\"Variable outside function is {}\".format(x))"
   ]
  },
  {
   "cell_type": "code",
   "execution_count": null,
   "metadata": {},
   "outputs": [],
   "source": [
    "### Here variable x declarerd outside function cannot be used inside function "
   ]
  },
  {
   "cell_type": "code",
   "execution_count": null,
   "metadata": {},
   "outputs": [],
   "source": [
    "x = 10\n",
    "def change(): \n",
    "    global x\n",
    "    x = x+10\n",
    "    print(\"Variable inside function is {}\".format(x))\n",
    "\n",
    "change()\n",
    "print(\"Variable outside function is {}\".format(x))"
   ]
  },
  {
   "cell_type": "code",
   "execution_count": null,
   "metadata": {},
   "outputs": [],
   "source": [
    "## Used for modification inside a function"
   ]
  },
  {
   "cell_type": "markdown",
   "metadata": {},
   "source": [
    "#### Variable or Data Types in Python "
   ]
  },
  {
   "cell_type": "code",
   "execution_count": null,
   "metadata": {},
   "outputs": [],
   "source": [
    "x = 5\n",
    "y = x"
   ]
  },
  {
   "cell_type": "code",
   "execution_count": null,
   "metadata": {},
   "outputs": [],
   "source": [
    "print(x)\n",
    "print(y)"
   ]
  },
  {
   "cell_type": "markdown",
   "metadata": {},
   "source": [
    "### Creating objects (or variables of a class type)"
   ]
  },
  {
   "cell_type": "code",
   "execution_count": null,
   "metadata": {},
   "outputs": [],
   "source": [
    "#Python program to show that the variables with a value\n",
    "# assigned in class declaration, are class variables and\n",
    "# variables inside methods and constructors are instance\n",
    "# variables\n",
    "\n",
    "class CSSTudent:\n",
    "    \n",
    "    #Class variable \n",
    "    stream = \"cse\"    \n",
    "    \n",
    "    def __init__(self,roll_num):\n",
    "        #Instance variable\n",
    "        self.roll_num = roll_num\n",
    "        \n",
    "a = CSSTudent(101)\n",
    "b = CSSTudent(102)\n",
    "\n",
    "print(a.roll_num)\n",
    "print(a.stream)\n",
    "print(b.roll_num)\n",
    "print(b.stream)"
   ]
  },
  {
   "cell_type": "markdown",
   "metadata": {},
   "source": [
    "## What does the if __name__ == \"__main__\": do in Python?"
   ]
  },
  {
   "cell_type": "markdown",
   "metadata": {},
   "source": [
    "1. Python program uses the condition  if __name__ == '__main__' to only run the code inside the \n",
    "   if statement when the program is run directly by the Python interpreter\n",
    "2. Code inside the if statement is not executed if it's imported as a module "
   ]
  },
  {
   "cell_type": "markdown",
   "metadata": {},
   "source": [
    "link2 : https://www.tutorialspoint.com/What-does-the-if-name-main-do-in-Python#:~:text=A%20Python%20programme%20uses%20the,is%20imported%20as%20a%20module."
   ]
  },
  {
   "cell_type": "markdown",
   "metadata": {},
   "source": [
    "### What is __main__?"
   ]
  },
  {
   "cell_type": "markdown",
   "metadata": {},
   "source": [
    "1. __name__ is a dunder name (two double underscore) \n",
    "\n"
   ]
  },
  {
   "cell_type": "code",
   "execution_count": null,
   "metadata": {},
   "outputs": [],
   "source": [
    "__name__"
   ]
  },
  {
   "cell_type": "code",
   "execution_count": null,
   "metadata": {},
   "outputs": [],
   "source": [
    "##So the value of name is main "
   ]
  },
  {
   "cell_type": "code",
   "execution_count": null,
   "metadata": {},
   "outputs": [],
   "source": [
    "import random\n",
    "print(random.__name__)"
   ]
  },
  {
   "cell_type": "code",
   "execution_count": null,
   "metadata": {},
   "outputs": [],
   "source": [
    "##After importing random module, the value for name is random"
   ]
  },
  {
   "cell_type": "code",
   "execution_count": null,
   "metadata": {},
   "outputs": [],
   "source": [
    "import __name__main"
   ]
  },
  {
   "cell_type": "markdown",
   "metadata": {},
   "source": [
    "1. value of __name__ varies depending on how our Python code is executed.\n",
    "2. Value of name is the name given to the module"
   ]
  },
  {
   "cell_type": "code",
   "execution_count": null,
   "metadata": {},
   "outputs": [],
   "source": [
    "import os\n",
    "os.getcwd()"
   ]
  },
  {
   "cell_type": "code",
   "execution_count": null,
   "metadata": {},
   "outputs": [],
   "source": [
    "os.listdir('C:\\\\Users\\\\giree\\\\Desktop\\\\Anjana\\\\Python work')"
   ]
  },
  {
   "cell_type": "code",
   "execution_count": null,
   "metadata": {},
   "outputs": [],
   "source": [
    "### A file thge same directory can be imported directly"
   ]
  },
  {
   "cell_type": "markdown",
   "metadata": {},
   "source": [
    "### Example of __ name __"
   ]
  },
  {
   "cell_type": "code",
   "execution_count": null,
   "metadata": {},
   "outputs": [],
   "source": [
    "def step1():\n",
    "    print(\"Executing the first step\")\n",
    "def step2():\n",
    "    print(\"Executing the second step\")\n",
    "def step3():\n",
    "    print(\"Executing the third step\")\n",
    "step1()\n",
    "step2()\n",
    "step3()\n",
    "\n",
    "###Make a file named \"_name_main\" "
   ]
  },
  {
   "cell_type": "code",
   "execution_count": null,
   "metadata": {},
   "outputs": [],
   "source": [
    "import _name_main"
   ]
  },
  {
   "cell_type": "code",
   "execution_count": null,
   "metadata": {},
   "outputs": [],
   "source": [
    "_name_main.step1()"
   ]
  },
  {
   "cell_type": "markdown",
   "metadata": {},
   "source": [
    "1. step1() function can be called after the module has been imported\n",
    "2. The issue is that the following three lines are automatically executed when we import the module −"
   ]
  },
  {
   "cell_type": "code",
   "execution_count": null,
   "metadata": {},
   "outputs": [],
   "source": [
    "## Adding __name__ == __main__\n",
    "import _name_main\n",
    "\n",
    "# Didnt execute ll the programs"
   ]
  },
  {
   "cell_type": "code",
   "execution_count": null,
   "metadata": {},
   "outputs": [],
   "source": [
    "_name_main.step1()"
   ]
  },
  {
   "cell_type": "markdown",
   "metadata": {},
   "source": [
    "def step1():\n",
    "    print(\"Executing the first step\")\n",
    "def step2():\n",
    "    print(\"Executing the second step\")\n",
    "def step3():\n",
    "    print(\"Executing the third step\")\n",
    "\n",
    "if __name__ == '__main__':\n",
    "    step1()\n",
    "    step2()\n",
    "    step3()"
   ]
  },
  {
   "cell_type": "markdown",
   "metadata": {},
   "source": [
    "1. It will run all the three steps if its run. but when it is saved to a file and called, then it won't run all the functions\n",
    "2. This is used when we don't use Classes and objects or creating API "
   ]
  },
  {
   "cell_type": "code",
   "execution_count": null,
   "metadata": {},
   "outputs": [],
   "source": [
    "from _name_main import step1\n",
    "step1()"
   ]
  },
  {
   "cell_type": "code",
   "execution_count": null,
   "metadata": {},
   "outputs": [],
   "source": [
    "step2()"
   ]
  },
  {
   "cell_type": "code",
   "execution_count": null,
   "metadata": {},
   "outputs": [],
   "source": [
    "# It wuill give error because this module is not imported"
   ]
  },
  {
   "cell_type": "markdown",
   "metadata": {},
   "source": [
    "## Main method in Python"
   ]
  },
  {
   "cell_type": "markdown",
   "metadata": {},
   "source": [
    "1. Main method is used inside the if statement and verifies the value of __name__ variable"
   ]
  },
  {
   "cell_type": "code",
   "execution_count": null,
   "metadata": {},
   "outputs": [],
   "source": [
    "def step1():\n",
    "    print(\"Executing the first step\")\n",
    "def step2():\n",
    "    print(\"Executing the second step\")\n",
    "def step3():\n",
    "    print(\"Executing the third step\")\n",
    "def main():\n",
    "    step1()\n",
    "    step2()\n",
    "    step3()\n",
    "\n",
    "if __name__ == '__main__':\n",
    "    main()"
   ]
  },
  {
   "cell_type": "markdown",
   "metadata": {},
   "source": [
    "## __ name __ , __ main __ and Arguments in Python"
   ]
  },
  {
   "cell_type": "code",
   "execution_count": null,
   "metadata": {},
   "outputs": [],
   "source": [
    "import sys\n",
    "print(sys.argv)"
   ]
  },
  {
   "cell_type": "code",
   "execution_count": null,
   "metadata": {},
   "outputs": [],
   "source": [
    "def main(args):\n",
    "    print(args)\n",
    "\n",
    "if __name__ == '__main__':\n",
    "    main(sys.argv)"
   ]
  },
  {
   "cell_type": "code",
   "execution_count": 13,
   "metadata": {},
   "outputs": [
    {
     "name": "stdout",
     "output_type": "stream",
     "text": [
      "['C:\\\\Users\\\\giree\\\\anaconda3\\\\lib\\\\site-packages\\\\ipykernel_launcher.py', '-f', 'C:\\\\Users\\\\giree\\\\AppData\\\\Roaming\\\\jupyter\\\\runtime\\\\kernel-9db38243-e816-401c-9322-2a76a5b33d1e.json']\n"
     ]
    }
   ],
   "source": [
    "import sys\n",
    "def main(args):\n",
    "   print(args)\n",
    "if __name__ == \"__main__\":\n",
    "   main(sys.argv)"
   ]
  },
  {
   "cell_type": "code",
   "execution_count": 14,
   "metadata": {},
   "outputs": [],
   "source": [
    "## Prints the name of the main name \n"
   ]
  },
  {
   "cell_type": "code",
   "execution_count": 15,
   "metadata": {},
   "outputs": [
    {
     "name": "stdout",
     "output_type": "stream",
     "text": [
      "['C:\\\\Users\\\\giree\\\\anaconda3\\\\lib\\\\site-packages\\\\ipykernel_launcher.py', '-f', 'C:\\\\Users\\\\giree\\\\AppData\\\\Roaming\\\\jupyter\\\\runtime\\\\kernel-9db38243-e816-401c-9322-2a76a5b33d1e.json']\n",
      "<class 'list'>\n"
     ]
    }
   ],
   "source": [
    "import sys\n",
    "def main(args):\n",
    "   print(args)\n",
    "   print(type(args))\n",
    "if __name__ == \"__main__\":\n",
    "   main(sys.argv)"
   ]
  },
  {
   "cell_type": "code",
   "execution_count": 16,
   "metadata": {},
   "outputs": [],
   "source": [
    "def main(args):\n",
    "   print(args)\n",
    "   print(type(args))"
   ]
  },
  {
   "cell_type": "code",
   "execution_count": 18,
   "metadata": {},
   "outputs": [
    {
     "name": "stdout",
     "output_type": "stream",
     "text": [
      "['C:\\\\Users\\\\giree\\\\anaconda3\\\\lib\\\\site-packages\\\\ipykernel_launcher.py', '-f', 'C:\\\\Users\\\\giree\\\\AppData\\\\Roaming\\\\jupyter\\\\runtime\\\\kernel-9db38243-e816-401c-9322-2a76a5b33d1e.json']\n",
      "<class 'list'>\n"
     ]
    }
   ],
   "source": [
    "if __name__ == \"__main__\":\n",
    "   main(sys.argv)"
   ]
  },
  {
   "cell_type": "code",
   "execution_count": 19,
   "metadata": {},
   "outputs": [
    {
     "ename": "ValueError",
     "evalue": "invalid literal for int() with base 10: '-f'",
     "output_type": "error",
     "traceback": [
      "\u001b[1;31m---------------------------------------------------------------------------\u001b[0m",
      "\u001b[1;31mValueError\u001b[0m                                Traceback (most recent call last)",
      "\u001b[1;32m<ipython-input-19-21d45fc79baa>\u001b[0m in \u001b[0;36m<module>\u001b[1;34m\u001b[0m\n\u001b[0;32m      4\u001b[0m \u001b[1;32mif\u001b[0m \u001b[0m__name__\u001b[0m \u001b[1;33m==\u001b[0m \u001b[1;34m\"__main__\"\u001b[0m\u001b[1;33m:\u001b[0m\u001b[1;33m\u001b[0m\u001b[1;33m\u001b[0m\u001b[0m\n\u001b[0;32m      5\u001b[0m    \u001b[0marg1\u001b[0m\u001b[1;33m,\u001b[0m \u001b[0marg2\u001b[0m \u001b[1;33m=\u001b[0m \u001b[0msys\u001b[0m\u001b[1;33m.\u001b[0m\u001b[0margv\u001b[0m\u001b[1;33m[\u001b[0m\u001b[1;36m1\u001b[0m\u001b[1;33m:\u001b[0m\u001b[1;36m3\u001b[0m\u001b[1;33m]\u001b[0m\u001b[1;33m\u001b[0m\u001b[1;33m\u001b[0m\u001b[0m\n\u001b[1;32m----> 6\u001b[1;33m    \u001b[0mprint\u001b[0m\u001b[1;33m(\u001b[0m\u001b[0mmain\u001b[0m\u001b[1;33m(\u001b[0m\u001b[0marg1\u001b[0m\u001b[1;33m,\u001b[0m \u001b[0marg2\u001b[0m\u001b[1;33m)\u001b[0m\u001b[1;33m)\u001b[0m\u001b[1;33m\u001b[0m\u001b[1;33m\u001b[0m\u001b[0m\n\u001b[0m",
      "\u001b[1;32m<ipython-input-19-21d45fc79baa>\u001b[0m in \u001b[0;36mmain\u001b[1;34m(c, d)\u001b[0m\n\u001b[0;32m      1\u001b[0m \u001b[1;32mimport\u001b[0m \u001b[0msys\u001b[0m\u001b[1;33m\u001b[0m\u001b[1;33m\u001b[0m\u001b[0m\n\u001b[0;32m      2\u001b[0m \u001b[1;32mdef\u001b[0m \u001b[0mmain\u001b[0m\u001b[1;33m(\u001b[0m\u001b[0mc\u001b[0m\u001b[1;33m,\u001b[0m \u001b[0md\u001b[0m\u001b[1;33m)\u001b[0m\u001b[1;33m:\u001b[0m\u001b[1;33m\u001b[0m\u001b[1;33m\u001b[0m\u001b[0m\n\u001b[1;32m----> 3\u001b[1;33m    \u001b[1;32mreturn\u001b[0m \u001b[0mint\u001b[0m\u001b[1;33m(\u001b[0m\u001b[0mc\u001b[0m\u001b[1;33m)\u001b[0m \u001b[1;33m*\u001b[0m \u001b[0mint\u001b[0m\u001b[1;33m(\u001b[0m\u001b[0md\u001b[0m\u001b[1;33m)\u001b[0m\u001b[1;33m\u001b[0m\u001b[1;33m\u001b[0m\u001b[0m\n\u001b[0m\u001b[0;32m      4\u001b[0m \u001b[1;32mif\u001b[0m \u001b[0m__name__\u001b[0m \u001b[1;33m==\u001b[0m \u001b[1;34m\"__main__\"\u001b[0m\u001b[1;33m:\u001b[0m\u001b[1;33m\u001b[0m\u001b[1;33m\u001b[0m\u001b[0m\n\u001b[0;32m      5\u001b[0m    \u001b[0marg1\u001b[0m\u001b[1;33m,\u001b[0m \u001b[0marg2\u001b[0m \u001b[1;33m=\u001b[0m \u001b[0msys\u001b[0m\u001b[1;33m.\u001b[0m\u001b[0margv\u001b[0m\u001b[1;33m[\u001b[0m\u001b[1;36m1\u001b[0m\u001b[1;33m:\u001b[0m\u001b[1;36m3\u001b[0m\u001b[1;33m]\u001b[0m\u001b[1;33m\u001b[0m\u001b[1;33m\u001b[0m\u001b[0m\n",
      "\u001b[1;31mValueError\u001b[0m: invalid literal for int() with base 10: '-f'"
     ]
    }
   ],
   "source": [
    "import sys\n",
    "def main(c, d):\n",
    "   return int(c) * int(d)\n",
    "if __name__ == \"__main__\":\n",
    "   arg1, arg2 = sys.argv[1:3]\n",
    "   print(main(arg1, arg2))"
   ]
  },
  {
   "cell_type": "code",
   "execution_count": 20,
   "metadata": {},
   "outputs": [],
   "source": [
    "##This doesn't work here "
   ]
  },
  {
   "cell_type": "code",
   "execution_count": null,
   "metadata": {},
   "outputs": [],
   "source": []
  },
  {
   "cell_type": "markdown",
   "metadata": {},
   "source": [
    "link1 : https://blog.finxter.com/how-to-convert-a-list-of-lists-to-a-set-in-python/"
   ]
  },
  {
   "cell_type": "markdown",
   "metadata": {},
   "source": [
    "### How to Convert a List of Lists to a Set in Python?"
   ]
  },
  {
   "cell_type": "code",
   "execution_count": 22,
   "metadata": {},
   "outputs": [
    {
     "ename": "TypeError",
     "evalue": "unhashable type: 'list'",
     "output_type": "error",
     "traceback": [
      "\u001b[1;31m---------------------------------------------------------------------------\u001b[0m",
      "\u001b[1;31mTypeError\u001b[0m                                 Traceback (most recent call last)",
      "\u001b[1;32m<ipython-input-22-d31bdbda2738>\u001b[0m in \u001b[0;36m<module>\u001b[1;34m\u001b[0m\n\u001b[0;32m      1\u001b[0m \u001b[0mmylist\u001b[0m \u001b[1;33m=\u001b[0m \u001b[1;33m[\u001b[0m\u001b[1;33m[\u001b[0m\u001b[1;36m1\u001b[0m\u001b[1;33m,\u001b[0m\u001b[1;36m2\u001b[0m\u001b[1;33m,\u001b[0m\u001b[1;36m3\u001b[0m\u001b[1;33m]\u001b[0m\u001b[1;33m,\u001b[0m\u001b[1;33m[\u001b[0m\u001b[1;34m\"Anjana\"\u001b[0m\u001b[1;33m,\u001b[0m\u001b[1;36m28\u001b[0m\u001b[1;33m,\u001b[0m\u001b[1;36m158.496\u001b[0m\u001b[1;33m]\u001b[0m\u001b[1;33m,\u001b[0m\u001b[1;33m[\u001b[0m\u001b[1;34m\"Gireesh\"\u001b[0m\u001b[1;33m,\u001b[0m\u001b[1;36m28\u001b[0m\u001b[1;33m,\u001b[0m\u001b[1;36m185\u001b[0m\u001b[1;33m]\u001b[0m\u001b[1;33m]\u001b[0m\u001b[1;33m\u001b[0m\u001b[1;33m\u001b[0m\u001b[0m\n\u001b[1;32m----> 2\u001b[1;33m \u001b[0mto_set\u001b[0m \u001b[1;33m=\u001b[0m \u001b[0mset\u001b[0m\u001b[1;33m(\u001b[0m\u001b[0mmylist\u001b[0m\u001b[1;33m)\u001b[0m\u001b[1;33m\u001b[0m\u001b[1;33m\u001b[0m\u001b[0m\n\u001b[0m",
      "\u001b[1;31mTypeError\u001b[0m: unhashable type: 'list'"
     ]
    }
   ],
   "source": [
    "mylist = [[1,2,3],[\"Anjana\",28,158.496],[\"Gireesh\",28,185]]\n",
    "to_set = set(mylist)"
   ]
  },
  {
   "cell_type": "code",
   "execution_count": 23,
   "metadata": {},
   "outputs": [],
   "source": [
    "##It gives an error.\n",
    "# set of list will result in set, but set of nested list will throw an error"
   ]
  },
  {
   "cell_type": "markdown",
   "metadata": {},
   "source": [
    "#### Method 1: Set Comprehension + tuple()"
   ]
  },
  {
   "cell_type": "code",
   "execution_count": 27,
   "metadata": {},
   "outputs": [
    {
     "name": "stdout",
     "output_type": "stream",
     "text": [
      "{('Gireesh', 28, 185), (1, 2, 3), ('Anjana', 28, 158.496)}\n",
      "<class 'set'>\n"
     ]
    }
   ],
   "source": [
    "set_method1 = {tuple(x) for x in mylist}\n",
    "print(set_method1)\n",
    "print(type(set_method1))"
   ]
  },
  {
   "cell_type": "markdown",
   "metadata": {},
   "source": [
    "#### Method 2: Generator Expression + set() + tuple()"
   ]
  },
  {
   "cell_type": "code",
   "execution_count": 28,
   "metadata": {},
   "outputs": [
    {
     "name": "stdout",
     "output_type": "stream",
     "text": [
      "{('Gireesh', 28, 185), (1, 2, 3), ('Anjana', 28, 158.496)}\n",
      "<class 'set'>\n"
     ]
    }
   ],
   "source": [
    "set_method2 = set(tuple(x) for x in mylist)\n",
    "print(set_method2)\n",
    "print(type(set_method2))"
   ]
  },
  {
   "cell_type": "markdown",
   "metadata": {},
   "source": [
    "#### Method 3: Loop + Convert + Add Tuples"
   ]
  },
  {
   "cell_type": "code",
   "execution_count": 31,
   "metadata": {},
   "outputs": [
    {
     "name": "stdout",
     "output_type": "stream",
     "text": [
      "{('Gireesh', 28, 185), (1, 2, 3), ('Anjana', 28, 158.496)}\n",
      "<class 'set'>\n"
     ]
    }
   ],
   "source": [
    "set_method3 = set()\n",
    "for i in mylist:\n",
    "    set_method3.add(tuple(i))\n",
    "\n",
    "print(set_method3)\n",
    "print(type(set_method3))"
   ]
  },
  {
   "cell_type": "markdown",
   "metadata": {},
   "source": [
    "#### Flatten List of Lists + Set Comprehension"
   ]
  },
  {
   "cell_type": "code",
   "execution_count": 33,
   "metadata": {},
   "outputs": [
    {
     "name": "stdout",
     "output_type": "stream",
     "text": [
      "{1, 2, 3, 'Anjana', 'Gireesh', 185, 28, 158.496}\n",
      "<class 'set'>\n"
     ]
    }
   ],
   "source": [
    "set_method4 = { x for lst in mylist for x in lst}\n",
    "\n",
    "print(set_method4)\n",
    "print(type(set_method4))"
   ]
  },
  {
   "cell_type": "markdown",
   "metadata": {},
   "source": [
    "#### Convert Inner Lists to Strings"
   ]
  },
  {
   "cell_type": "code",
   "execution_count": 34,
   "metadata": {},
   "outputs": [
    {
     "name": "stdout",
     "output_type": "stream",
     "text": [
      "{\"['Gireesh', 28, 185]\", '[1, 2, 3]', \"['Anjana', 28, 158.496]\"}\n",
      "<class 'set'>\n"
     ]
    }
   ],
   "source": [
    "set_method5 = {str(x) for x in mylist}\n",
    "print(set_method5)\n",
    "print(type(set_method5))"
   ]
  },
  {
   "cell_type": "markdown",
   "metadata": {},
   "source": [
    "## Python Comments"
   ]
  },
  {
   "cell_type": "markdown",
   "metadata": {},
   "source": [
    "1. Lines in the code that are not run by interpreter while execution of code\n",
    "2. Enhances the readability and help the programmer to understand the code carefully "
   ]
  },
  {
   "cell_type": "markdown",
   "metadata": {},
   "source": [
    "There are three types of comments in Python:\n",
    "\n",
    "1. Single line Comments\n",
    "2. Multiline Comments\n",
    "3. Docstring Comments"
   ]
  },
  {
   "cell_type": "markdown",
   "metadata": {},
   "source": [
    "### Single-Line Comments in Python"
   ]
  },
  {
   "cell_type": "markdown",
   "metadata": {},
   "source": [
    "1. Starts with the hashtag symbol (#) with no white spaces and lasts till the end of the line\n",
    "2. Short explanations for variables, function declarations, and expressions"
   ]
  },
  {
   "cell_type": "code",
   "execution_count": 35,
   "metadata": {},
   "outputs": [
    {
     "name": "stdout",
     "output_type": "stream",
     "text": [
      "Single line comment\n"
     ]
    }
   ],
   "source": [
    "# This is a print statemnt \n",
    "print(\"Single line comment\")"
   ]
  },
  {
   "cell_type": "markdown",
   "metadata": {},
   "source": [
    "### Multi-Line Comments in Python`"
   ]
  },
  {
   "cell_type": "markdown",
   "metadata": {},
   "source": [
    "#### Multiline comments using multiple hashtags (#)"
   ]
  },
  {
   "cell_type": "code",
   "execution_count": 36,
   "metadata": {},
   "outputs": [
    {
     "name": "stdout",
     "output_type": "stream",
     "text": [
      "Multiline\n"
     ]
    }
   ],
   "source": [
    "# Python program to explain\n",
    "# multiline comment\n",
    "\n",
    "print(\"Multiline\")"
   ]
  },
  {
   "cell_type": "markdown",
   "metadata": {},
   "source": [
    "#### String Literals In Python\n",
    "\n",
    "1. Ignores the single literals as they are not assigned to a variable"
   ]
  },
  {
   "cell_type": "code",
   "execution_count": 41,
   "metadata": {},
   "outputs": [
    {
     "data": {
      "text/plain": [
       "'This will be ignored by python '"
      ]
     },
     "execution_count": 41,
     "metadata": {},
     "output_type": "execute_result"
    }
   ],
   "source": [
    "'This will be ignored by python '\n",
    "\n",
    "# we use the strings with triple quotes(“””) as multiline comments."
   ]
  },
  {
   "cell_type": "code",
   "execution_count": 42,
   "metadata": {},
   "outputs": [
    {
     "data": {
      "text/plain": [
       "'\\nThis is a triple quote multiline\\ncomment\\n\\n'"
      ]
     },
     "execution_count": 42,
     "metadata": {},
     "output_type": "execute_result"
    }
   ],
   "source": [
    "\"\"\"\n",
    "This is a triple quote multiline\n",
    "comment\n",
    "\n",
    "\"\"\""
   ]
  },
  {
   "cell_type": "markdown",
   "metadata": {},
   "source": [
    "### Docstring in Python"
   ]
  },
  {
   "cell_type": "markdown",
   "metadata": {},
   "source": [
    "1. Single literals with triple quotes \n",
    "2. written below Python modules, functions, classes, and methods\n",
    "3. he docstring is then made available via the __ doc __ attribute"
   ]
  },
  {
   "cell_type": "code",
   "execution_count": 46,
   "metadata": {},
   "outputs": [
    {
     "data": {
      "text/plain": [
       "'Multiplies a and b'"
      ]
     },
     "execution_count": 46,
     "metadata": {},
     "output_type": "execute_result"
    }
   ],
   "source": [
    "def multiply(a,b):\n",
    "    \"\"\"Multiplies a and b\"\"\"\n",
    "    '''a and b'''\n",
    "    # Comments in python\n",
    "    print(a*b)\n",
    "\n",
    "multiply.__doc__"
   ]
  },
  {
   "cell_type": "markdown",
   "metadata": {},
   "source": [
    "### Advantages of comments in Python\n",
    "\n",
    "1. Code Readability\n",
    "2. Explanation of the code or Metadata of the project\n",
    "3. Prevent execution of code\n",
    "4. To include resources"
   ]
  },
  {
   "cell_type": "markdown",
   "metadata": {},
   "source": [
    "### Type Conversion in Python"
   ]
  },
  {
   "cell_type": "markdown",
   "metadata": {},
   "source": [
    "1. Converts one data type to another \n",
    "\n",
    "There are two types of Type Conversion in Python:\n",
    "\n",
    "1. Implicit Type Conversion\n",
    "2. Explicit Type Conversion"
   ]
  },
  {
   "cell_type": "markdown",
   "metadata": {},
   "source": [
    "### Implicit Type Conversion"
   ]
  },
  {
   "cell_type": "markdown",
   "metadata": {},
   "source": [
    "1. Python Interpreter converts one data type to another without any user involvement "
   ]
  },
  {
   "cell_type": "code",
   "execution_count": 48,
   "metadata": {},
   "outputs": [
    {
     "name": "stdout",
     "output_type": "stream",
     "text": [
      "Type of x is <class 'int'>\n",
      "Type of y is <class 'float'>\n",
      "Type of z is <class 'float'>\n"
     ]
    }
   ],
   "source": [
    "x = 10\n",
    "print(\"Type of x is {}\".format(type(x)))\n",
    "\n",
    "y = 23.98\n",
    "print(\"Type of y is {}\".format(type(y)))\n",
    "\n",
    "z = x+y\n",
    "print(\"Type of z is {}\".format(type(z)))"
   ]
  },
  {
   "cell_type": "markdown",
   "metadata": {},
   "source": [
    "1. z did not convert into integer\n",
    "2. The reason for the float value not being converted into an integer instead is due to \n",
    "type promotion that allows performing operations by converting data \n",
    "into a wider-sized data type without any loss of information"
   ]
  },
  {
   "cell_type": "markdown",
   "metadata": {},
   "source": [
    "### Explicit Type Conversion"
   ]
  },
  {
   "cell_type": "markdown",
   "metadata": {},
   "source": [
    "Manually changed by the user as per requirement.\n",
    "\n",
    "1. int(a, base)\n",
    "2. float()\n",
    "\n",
    "       "
   ]
  },
  {
   "cell_type": "code",
   "execution_count": 50,
   "metadata": {},
   "outputs": [
    {
     "name": "stdout",
     "output_type": "stream",
     "text": [
      "18\n",
      "<class 'int'>\n"
     ]
    }
   ],
   "source": [
    "s = \"10010\" \n",
    "\n",
    "abc = int(s,2)\n",
    "print(abc)\n",
    "print(type(abc))"
   ]
  },
  {
   "cell_type": "code",
   "execution_count": 51,
   "metadata": {},
   "outputs": [
    {
     "name": "stdout",
     "output_type": "stream",
     "text": [
      "10010.0\n",
      "<class 'float'>\n"
     ]
    }
   ],
   "source": [
    "s_float = float(s)\n",
    "print(s_float)\n",
    "print(type(s_float))"
   ]
  },
  {
   "cell_type": "markdown",
   "metadata": {},
   "source": [
    "3. ord() : This function is used to convert a character(single letter) to integer."
   ]
  },
  {
   "cell_type": "code",
   "execution_count": 54,
   "metadata": {},
   "outputs": [
    {
     "data": {
      "text/plain": [
       "99"
      ]
     },
     "execution_count": 54,
     "metadata": {},
     "output_type": "execute_result"
    }
   ],
   "source": [
    "t = 'c'\n",
    "ord(t)"
   ]
  },
  {
   "cell_type": "markdown",
   "metadata": {},
   "source": [
    "4. hex() : This function is to convert integer to hexadecimal string.\n",
    "5. oct() : This function is to convert integer to octal string."
   ]
  },
  {
   "cell_type": "code",
   "execution_count": 56,
   "metadata": {},
   "outputs": [
    {
     "name": "stdout",
     "output_type": "stream",
     "text": [
      "0x38\n",
      "<class 'str'>\n"
     ]
    }
   ],
   "source": [
    "d = hex(56)\n",
    "print(d)\n",
    "print(type(d))"
   ]
  },
  {
   "cell_type": "code",
   "execution_count": 57,
   "metadata": {},
   "outputs": [
    {
     "name": "stdout",
     "output_type": "stream",
     "text": [
      "0o70\n",
      "<class 'str'>\n"
     ]
    }
   ],
   "source": [
    "e = oct(56)\n",
    "print(e)\n",
    "print(type(e))"
   ]
  },
  {
   "cell_type": "markdown",
   "metadata": {},
   "source": [
    "6. tuple() : This function is used to convert to a tuple.\n",
    "7. set() : This function returns the type after converting to set.\n",
    "8. list() : This function is used to convert any data type to a list type."
   ]
  },
  {
   "cell_type": "code",
   "execution_count": 58,
   "metadata": {},
   "outputs": [
    {
     "name": "stdout",
     "output_type": "stream",
     "text": [
      "('A', 'n', 'j', 'a', 'n', 'a')\n",
      "<class 'tuple'>\n"
     ]
    }
   ],
   "source": [
    "r = \"Anjana\"\n",
    "\n",
    "r_tup = tuple(r)\n",
    "print(r_tup)\n",
    "print(type(r_tup))"
   ]
  },
  {
   "cell_type": "code",
   "execution_count": 59,
   "metadata": {},
   "outputs": [
    {
     "name": "stdout",
     "output_type": "stream",
     "text": [
      "{'A', 'a', 'n', 'j'}\n",
      "<class 'set'>\n"
     ]
    }
   ],
   "source": [
    "r_set = set(r)\n",
    "print(r_set)\n",
    "print(type(r_set))"
   ]
  },
  {
   "cell_type": "code",
   "execution_count": 60,
   "metadata": {},
   "outputs": [
    {
     "name": "stdout",
     "output_type": "stream",
     "text": [
      "['A', 'n', 'j', 'a', 'n', 'a']\n",
      "<class 'list'>\n"
     ]
    }
   ],
   "source": [
    "r_list = list(r)\n",
    "print(r_list)\n",
    "print(type(r_list))"
   ]
  },
  {
   "cell_type": "markdown",
   "metadata": {},
   "source": [
    "9. dict() : This function is used to convert a tuple of order (key,value) into a dictionary.\n",
    "10. str() : Used to convert integer into a string.\n",
    "11. complex(real,imag) : This function converts real numbers to complex(real,imag) number."
   ]
  },
  {
   "cell_type": "code",
   "execution_count": 61,
   "metadata": {},
   "outputs": [
    {
     "name": "stdout",
     "output_type": "stream",
     "text": [
      "{'a': 1, 'b': 2, 'c': 3}\n",
      "<class 'dict'>\n"
     ]
    }
   ],
   "source": [
    "tup_ = (('a',1),('b',2),('c',3))\n",
    "tup_dict = dict(tup_)\n",
    "print(tup_dict)\n",
    "print(type(tup_dict))"
   ]
  },
  {
   "cell_type": "code",
   "execution_count": 62,
   "metadata": {},
   "outputs": [
    {
     "name": "stdout",
     "output_type": "stream",
     "text": [
      "9\n",
      "<class 'str'>\n"
     ]
    }
   ],
   "source": [
    "i = 9\n",
    "i_str = str(i)\n",
    "print(i_str)\n",
    "print(type(i_str))"
   ]
  },
  {
   "cell_type": "code",
   "execution_count": 63,
   "metadata": {},
   "outputs": [
    {
     "name": "stdout",
     "output_type": "stream",
     "text": [
      "(9+8j)\n",
      "<class 'complex'>\n"
     ]
    }
   ],
   "source": [
    "j= 8\n",
    "ij_comp = complex(i,j)\n",
    "print(ij_comp)\n",
    "print(type(ij_comp))"
   ]
  },
  {
   "cell_type": "markdown",
   "metadata": {},
   "source": [
    "12. chr(number): This function converts number to its corresponding ASCII character. "
   ]
  },
  {
   "cell_type": "code",
   "execution_count": 65,
   "metadata": {},
   "outputs": [
    {
     "name": "stdout",
     "output_type": "stream",
     "text": [
      "b\n"
     ]
    }
   ],
   "source": [
    "a = chr(98)\n",
    "print(a)"
   ]
  },
  {
   "cell_type": "code",
   "execution_count": null,
   "metadata": {},
   "outputs": [],
   "source": []
  }
 ],
 "metadata": {
  "kernelspec": {
   "display_name": "Python 3",
   "language": "python",
   "name": "python3"
  },
  "language_info": {
   "codemirror_mode": {
    "name": "ipython",
    "version": 3
   },
   "file_extension": ".py",
   "mimetype": "text/x-python",
   "name": "python",
   "nbconvert_exporter": "python",
   "pygments_lexer": "ipython3",
   "version": "3.8.3"
  }
 },
 "nbformat": 4,
 "nbformat_minor": 4
}
